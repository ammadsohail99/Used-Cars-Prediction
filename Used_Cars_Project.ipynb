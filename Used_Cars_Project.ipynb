{
 "cells": [
  {
   "cell_type": "markdown",
   "metadata": {
    "id": "J-JZtcBYtOSb"
   },
   "source": [
    "## **Data Dictionary**\n",
    "\n",
    "**S.No.** : Serial Number\n",
    "\n",
    "**Name** : Name of the car which includes Brand name and Model name\n",
    "\n",
    "**Location** : The location in which the car is being sold or is available for purchase (Cities)\n",
    "\n",
    "**Year** : Manufacturing year of the car\n",
    "\n",
    "**Kilometers_driven** : The total kilometers driven in the car by the previous owner(s) in KM\n",
    "\n",
    "**Fuel_Type** : The type of fuel used by the car (Petrol, Diesel, Electric, CNG, LPG)\n",
    "\n",
    "**Transmission** : The type of transmission used by the car (Automatic / Manual)\n",
    "\n",
    "**Owner** : Type of ownership\n",
    "\n",
    "**Mileage** : The standard mileage offered by the car company in kmpl or km/kg\n",
    "\n",
    "**Engine** : The displacement volume of the engine in CC\n",
    "\n",
    "**Power** : The maximum power of the engine in bhp\n",
    "\n",
    "**Seats** : The number of seats in the car\n",
    "\n",
    "**New_Price** : The price of a new car of the same model in INR 100,000\n",
    "\n",
    "**Price** : The price of the used car in INR 100,000 (**Target Variable**)"
   ]
  },
  {
   "cell_type": "markdown",
   "metadata": {
    "id": "rlLoEhsbtOSg"
   },
   "source": [
    "### **Loading libraries**"
   ]
  },
  {
   "cell_type": "code",
   "execution_count": 2,
   "metadata": {
    "id": "8J9KZGl9tOSh"
   },
   "outputs": [],
   "source": [
    "# Import required libraries\n",
    "import pandas as pd\n",
    "import numpy as np\n",
    "\n",
    "import matplotlib.pyplot as plt\n",
    "import seaborn as sns\n",
    "\n",
    "# To ignore warnings\n",
    "import warnings\n",
    "warnings.filterwarnings('ignore')\n",
    "\n",
    "# Remove the limit from the number of displayed columns and rows. It helps to see the entire dataframe while printing it\n",
    "pd.set_option(\"display.max_columns\", None)"
   ]
  },
  {
   "cell_type": "markdown",
   "metadata": {
    "id": "baG7rS5FtOSh"
   },
   "source": [
    "### **Let us load the data**"
   ]
  },
  {
   "cell_type": "code",
   "execution_count": 3,
   "metadata": {
    "id": "flK0muyhtOSi"
   },
   "outputs": [],
   "source": [
    "data = pd.read_csv(\"used_cars.csv\")"
   ]
  },
  {
   "cell_type": "markdown",
   "metadata": {
    "id": "63k9imdMtOSi"
   },
   "source": [
    "### **Understand the data by observing a few rows**"
   ]
  },
  {
   "cell_type": "code",
   "execution_count": 4,
   "metadata": {
    "id": "rrVFKlXXtOSi"
   },
   "outputs": [
    {
     "data": {
      "text/html": [
       "<div>\n",
       "<style scoped>\n",
       "    .dataframe tbody tr th:only-of-type {\n",
       "        vertical-align: middle;\n",
       "    }\n",
       "\n",
       "    .dataframe tbody tr th {\n",
       "        vertical-align: top;\n",
       "    }\n",
       "\n",
       "    .dataframe thead th {\n",
       "        text-align: right;\n",
       "    }\n",
       "</style>\n",
       "<table border=\"1\" class=\"dataframe\">\n",
       "  <thead>\n",
       "    <tr style=\"text-align: right;\">\n",
       "      <th></th>\n",
       "      <th>S.No.</th>\n",
       "      <th>Name</th>\n",
       "      <th>Location</th>\n",
       "      <th>Year</th>\n",
       "      <th>Kilometers_Driven</th>\n",
       "      <th>Fuel_Type</th>\n",
       "      <th>Transmission</th>\n",
       "      <th>Owner_Type</th>\n",
       "      <th>Mileage</th>\n",
       "      <th>Engine</th>\n",
       "      <th>Power</th>\n",
       "      <th>Seats</th>\n",
       "      <th>New_price</th>\n",
       "      <th>Price</th>\n",
       "    </tr>\n",
       "  </thead>\n",
       "  <tbody>\n",
       "    <tr>\n",
       "      <th>0</th>\n",
       "      <td>0</td>\n",
       "      <td>Maruti Wagon R LXI CNG</td>\n",
       "      <td>Mumbai</td>\n",
       "      <td>2010</td>\n",
       "      <td>72000</td>\n",
       "      <td>CNG</td>\n",
       "      <td>Manual</td>\n",
       "      <td>First</td>\n",
       "      <td>26.60</td>\n",
       "      <td>998.0</td>\n",
       "      <td>58.16</td>\n",
       "      <td>5.0</td>\n",
       "      <td>NaN</td>\n",
       "      <td>1.75</td>\n",
       "    </tr>\n",
       "    <tr>\n",
       "      <th>1</th>\n",
       "      <td>1</td>\n",
       "      <td>Hyundai Creta 1.6 CRDi SX Option</td>\n",
       "      <td>Pune</td>\n",
       "      <td>2015</td>\n",
       "      <td>41000</td>\n",
       "      <td>Diesel</td>\n",
       "      <td>Manual</td>\n",
       "      <td>First</td>\n",
       "      <td>19.67</td>\n",
       "      <td>1582.0</td>\n",
       "      <td>126.20</td>\n",
       "      <td>5.0</td>\n",
       "      <td>NaN</td>\n",
       "      <td>12.50</td>\n",
       "    </tr>\n",
       "    <tr>\n",
       "      <th>2</th>\n",
       "      <td>2</td>\n",
       "      <td>Honda Jazz V</td>\n",
       "      <td>Chennai</td>\n",
       "      <td>2011</td>\n",
       "      <td>46000</td>\n",
       "      <td>Petrol</td>\n",
       "      <td>Manual</td>\n",
       "      <td>First</td>\n",
       "      <td>18.20</td>\n",
       "      <td>1199.0</td>\n",
       "      <td>88.70</td>\n",
       "      <td>5.0</td>\n",
       "      <td>8.61</td>\n",
       "      <td>4.50</td>\n",
       "    </tr>\n",
       "    <tr>\n",
       "      <th>3</th>\n",
       "      <td>3</td>\n",
       "      <td>Maruti Ertiga VDI</td>\n",
       "      <td>Chennai</td>\n",
       "      <td>2012</td>\n",
       "      <td>87000</td>\n",
       "      <td>Diesel</td>\n",
       "      <td>Manual</td>\n",
       "      <td>First</td>\n",
       "      <td>20.77</td>\n",
       "      <td>1248.0</td>\n",
       "      <td>88.76</td>\n",
       "      <td>7.0</td>\n",
       "      <td>NaN</td>\n",
       "      <td>6.00</td>\n",
       "    </tr>\n",
       "    <tr>\n",
       "      <th>4</th>\n",
       "      <td>4</td>\n",
       "      <td>Audi A4 New 2.0 TDI Multitronic</td>\n",
       "      <td>Coimbatore</td>\n",
       "      <td>2013</td>\n",
       "      <td>40670</td>\n",
       "      <td>Diesel</td>\n",
       "      <td>Automatic</td>\n",
       "      <td>Second</td>\n",
       "      <td>15.20</td>\n",
       "      <td>1968.0</td>\n",
       "      <td>140.80</td>\n",
       "      <td>5.0</td>\n",
       "      <td>NaN</td>\n",
       "      <td>17.74</td>\n",
       "    </tr>\n",
       "  </tbody>\n",
       "</table>\n",
       "</div>"
      ],
      "text/plain": [
       "   S.No.                              Name    Location  Year  \\\n",
       "0      0            Maruti Wagon R LXI CNG      Mumbai  2010   \n",
       "1      1  Hyundai Creta 1.6 CRDi SX Option        Pune  2015   \n",
       "2      2                      Honda Jazz V     Chennai  2011   \n",
       "3      3                 Maruti Ertiga VDI     Chennai  2012   \n",
       "4      4   Audi A4 New 2.0 TDI Multitronic  Coimbatore  2013   \n",
       "\n",
       "   Kilometers_Driven Fuel_Type Transmission Owner_Type  Mileage  Engine  \\\n",
       "0              72000       CNG       Manual      First    26.60   998.0   \n",
       "1              41000    Diesel       Manual      First    19.67  1582.0   \n",
       "2              46000    Petrol       Manual      First    18.20  1199.0   \n",
       "3              87000    Diesel       Manual      First    20.77  1248.0   \n",
       "4              40670    Diesel    Automatic     Second    15.20  1968.0   \n",
       "\n",
       "    Power  Seats  New_price  Price  \n",
       "0   58.16    5.0        NaN   1.75  \n",
       "1  126.20    5.0        NaN  12.50  \n",
       "2   88.70    5.0       8.61   4.50  \n",
       "3   88.76    7.0        NaN   6.00  \n",
       "4  140.80    5.0        NaN  17.74  "
      ]
     },
     "execution_count": 4,
     "metadata": {},
     "output_type": "execute_result"
    }
   ],
   "source": [
    "# View first 5 rows\n",
    "data.head()"
   ]
  },
  {
   "cell_type": "code",
   "execution_count": 5,
   "metadata": {
    "id": "7oeTruANtOSj"
   },
   "outputs": [
    {
     "data": {
      "text/html": [
       "<div>\n",
       "<style scoped>\n",
       "    .dataframe tbody tr th:only-of-type {\n",
       "        vertical-align: middle;\n",
       "    }\n",
       "\n",
       "    .dataframe tbody tr th {\n",
       "        vertical-align: top;\n",
       "    }\n",
       "\n",
       "    .dataframe thead th {\n",
       "        text-align: right;\n",
       "    }\n",
       "</style>\n",
       "<table border=\"1\" class=\"dataframe\">\n",
       "  <thead>\n",
       "    <tr style=\"text-align: right;\">\n",
       "      <th></th>\n",
       "      <th>S.No.</th>\n",
       "      <th>Name</th>\n",
       "      <th>Location</th>\n",
       "      <th>Year</th>\n",
       "      <th>Kilometers_Driven</th>\n",
       "      <th>Fuel_Type</th>\n",
       "      <th>Transmission</th>\n",
       "      <th>Owner_Type</th>\n",
       "      <th>Mileage</th>\n",
       "      <th>Engine</th>\n",
       "      <th>Power</th>\n",
       "      <th>Seats</th>\n",
       "      <th>New_price</th>\n",
       "      <th>Price</th>\n",
       "    </tr>\n",
       "  </thead>\n",
       "  <tbody>\n",
       "    <tr>\n",
       "      <th>7248</th>\n",
       "      <td>7248</td>\n",
       "      <td>Volkswagen Vento Diesel Trendline</td>\n",
       "      <td>Hyderabad</td>\n",
       "      <td>2011</td>\n",
       "      <td>89411</td>\n",
       "      <td>Diesel</td>\n",
       "      <td>Manual</td>\n",
       "      <td>First</td>\n",
       "      <td>20.54</td>\n",
       "      <td>1598.0</td>\n",
       "      <td>103.6</td>\n",
       "      <td>5.0</td>\n",
       "      <td>NaN</td>\n",
       "      <td>NaN</td>\n",
       "    </tr>\n",
       "    <tr>\n",
       "      <th>7249</th>\n",
       "      <td>7249</td>\n",
       "      <td>Volkswagen Polo GT TSI</td>\n",
       "      <td>Mumbai</td>\n",
       "      <td>2015</td>\n",
       "      <td>59000</td>\n",
       "      <td>Petrol</td>\n",
       "      <td>Automatic</td>\n",
       "      <td>First</td>\n",
       "      <td>17.21</td>\n",
       "      <td>1197.0</td>\n",
       "      <td>103.6</td>\n",
       "      <td>5.0</td>\n",
       "      <td>NaN</td>\n",
       "      <td>NaN</td>\n",
       "    </tr>\n",
       "    <tr>\n",
       "      <th>7250</th>\n",
       "      <td>7250</td>\n",
       "      <td>Nissan Micra Diesel XV</td>\n",
       "      <td>Kolkata</td>\n",
       "      <td>2012</td>\n",
       "      <td>28000</td>\n",
       "      <td>Diesel</td>\n",
       "      <td>Manual</td>\n",
       "      <td>First</td>\n",
       "      <td>23.08</td>\n",
       "      <td>1461.0</td>\n",
       "      <td>63.1</td>\n",
       "      <td>5.0</td>\n",
       "      <td>NaN</td>\n",
       "      <td>NaN</td>\n",
       "    </tr>\n",
       "    <tr>\n",
       "      <th>7251</th>\n",
       "      <td>7251</td>\n",
       "      <td>Volkswagen Polo GT TSI</td>\n",
       "      <td>Pune</td>\n",
       "      <td>2013</td>\n",
       "      <td>52262</td>\n",
       "      <td>Petrol</td>\n",
       "      <td>Automatic</td>\n",
       "      <td>Third</td>\n",
       "      <td>17.20</td>\n",
       "      <td>1197.0</td>\n",
       "      <td>103.6</td>\n",
       "      <td>5.0</td>\n",
       "      <td>NaN</td>\n",
       "      <td>NaN</td>\n",
       "    </tr>\n",
       "    <tr>\n",
       "      <th>7252</th>\n",
       "      <td>7252</td>\n",
       "      <td>Mercedes-Benz E-Class 2009-2013 E 220 CDI Avan...</td>\n",
       "      <td>Kochi</td>\n",
       "      <td>2014</td>\n",
       "      <td>72443</td>\n",
       "      <td>Diesel</td>\n",
       "      <td>Automatic</td>\n",
       "      <td>First</td>\n",
       "      <td>10.00</td>\n",
       "      <td>2148.0</td>\n",
       "      <td>170.0</td>\n",
       "      <td>5.0</td>\n",
       "      <td>NaN</td>\n",
       "      <td>NaN</td>\n",
       "    </tr>\n",
       "  </tbody>\n",
       "</table>\n",
       "</div>"
      ],
      "text/plain": [
       "      S.No.                                               Name   Location  \\\n",
       "7248   7248                  Volkswagen Vento Diesel Trendline  Hyderabad   \n",
       "7249   7249                             Volkswagen Polo GT TSI     Mumbai   \n",
       "7250   7250                             Nissan Micra Diesel XV    Kolkata   \n",
       "7251   7251                             Volkswagen Polo GT TSI       Pune   \n",
       "7252   7252  Mercedes-Benz E-Class 2009-2013 E 220 CDI Avan...      Kochi   \n",
       "\n",
       "      Year  Kilometers_Driven Fuel_Type Transmission Owner_Type  Mileage  \\\n",
       "7248  2011              89411    Diesel       Manual      First    20.54   \n",
       "7249  2015              59000    Petrol    Automatic      First    17.21   \n",
       "7250  2012              28000    Diesel       Manual      First    23.08   \n",
       "7251  2013              52262    Petrol    Automatic      Third    17.20   \n",
       "7252  2014              72443    Diesel    Automatic      First    10.00   \n",
       "\n",
       "      Engine  Power  Seats  New_price  Price  \n",
       "7248  1598.0  103.6    5.0        NaN    NaN  \n",
       "7249  1197.0  103.6    5.0        NaN    NaN  \n",
       "7250  1461.0   63.1    5.0        NaN    NaN  \n",
       "7251  1197.0  103.6    5.0        NaN    NaN  \n",
       "7252  2148.0  170.0    5.0        NaN    NaN  "
      ]
     },
     "execution_count": 5,
     "metadata": {},
     "output_type": "execute_result"
    }
   ],
   "source": [
    "# View last 5 rows Hint: Use tail() method\n",
    "data.tail()"
   ]
  },
  {
   "cell_type": "markdown",
   "metadata": {
    "id": "T0h9uyJNVL3U"
   },
   "source": [
    "### **Let us check the data types and and missing values of each column** "
   ]
  },
  {
   "cell_type": "code",
   "execution_count": 6,
   "metadata": {
    "id": "r1jWwTJiVL3V"
   },
   "outputs": [
    {
     "name": "stdout",
     "output_type": "stream",
     "text": [
      "<class 'pandas.core.frame.DataFrame'>\n",
      "RangeIndex: 7253 entries, 0 to 7252\n",
      "Data columns (total 14 columns):\n",
      " #   Column             Non-Null Count  Dtype  \n",
      "---  ------             --------------  -----  \n",
      " 0   S.No.              7253 non-null   int64  \n",
      " 1   Name               7253 non-null   object \n",
      " 2   Location           7253 non-null   object \n",
      " 3   Year               7253 non-null   int64  \n",
      " 4   Kilometers_Driven  7253 non-null   int64  \n",
      " 5   Fuel_Type          7253 non-null   object \n",
      " 6   Transmission       7253 non-null   object \n",
      " 7   Owner_Type         7253 non-null   object \n",
      " 8   Mileage            7251 non-null   float64\n",
      " 9   Engine             7207 non-null   float64\n",
      " 10  Power              7078 non-null   float64\n",
      " 11  Seats              7200 non-null   float64\n",
      " 12  New_price          1006 non-null   float64\n",
      " 13  Price              6019 non-null   float64\n",
      "dtypes: float64(6), int64(3), object(5)\n",
      "memory usage: 793.4+ KB\n"
     ]
    }
   ],
   "source": [
    "# Check the datatypes of each column. Hint: Use info() method\n",
    "data.info()"
   ]
  },
  {
   "cell_type": "code",
   "execution_count": 7,
   "metadata": {
    "id": "7d0y0_sqVL3V"
   },
   "outputs": [
    {
     "data": {
      "text/plain": [
       "S.No.                   0\n",
       "Name                    0\n",
       "Location                0\n",
       "Year                    0\n",
       "Kilometers_Driven       0\n",
       "Fuel_Type               0\n",
       "Transmission            0\n",
       "Owner_Type              0\n",
       "Mileage                 2\n",
       "Engine                 46\n",
       "Power                 175\n",
       "Seats                  53\n",
       "New_price            6247\n",
       "Price                1234\n",
       "dtype: int64"
      ]
     },
     "execution_count": 7,
     "metadata": {},
     "output_type": "execute_result"
    }
   ],
   "source": [
    "# Check total number of missing values of each column. Hint: Use isnull() method\n",
    "data.isnull().sum()"
   ]
  },
  {
   "cell_type": "markdown",
   "metadata": {
    "id": "YYEjK2P9VL3V"
   },
   "source": [
    "**Observations and Insights: \n",
    "New_Price is the column with the highest number of missing values. Price, which is the target variable, has missing values equal to 1234. Seats have only 53 values missing. There are 175 missing values attributed to the Power column. The engine column contains 46 missing values, whereas the Mileage has only two values missing.**"
   ]
  },
  {
   "cell_type": "markdown",
   "metadata": {
    "id": "advlMcdfVL3V"
   },
   "source": [
    "We can observe that `S.No.` has no null values. Also the number of unique values are equal to the number of observations. So, `S.No.` looks like an index for the data entry and such a column would not be useful in providing any predictive power for our analysis. Hence, it can be dropped."
   ]
  },
  {
   "cell_type": "code",
   "execution_count": 8,
   "metadata": {
    "id": "7iOwET4BtOSk"
   },
   "outputs": [],
   "source": [
    "# Remove S.No. column from data. Hint: Use inplace = True\n",
    "data.drop(\"S.No.\",axis=1,inplace = True)"
   ]
  },
  {
   "cell_type": "markdown",
   "metadata": {
    "id": "crnR9cphIrct"
   },
   "source": [
    "## **Exploratory Data Analysis**"
   ]
  },
  {
   "cell_type": "markdown",
   "metadata": {
    "id": "foDG3YDDtOSm"
   },
   "source": [
    "### **Let us now explore the summary statistics of numerical variables**"
   ]
  },
  {
   "cell_type": "code",
   "execution_count": 9,
   "metadata": {
    "id": "gRtUSqXptOSm",
    "scrolled": true
   },
   "outputs": [
    {
     "data": {
      "text/html": [
       "<div>\n",
       "<style scoped>\n",
       "    .dataframe tbody tr th:only-of-type {\n",
       "        vertical-align: middle;\n",
       "    }\n",
       "\n",
       "    .dataframe tbody tr th {\n",
       "        vertical-align: top;\n",
       "    }\n",
       "\n",
       "    .dataframe thead th {\n",
       "        text-align: right;\n",
       "    }\n",
       "</style>\n",
       "<table border=\"1\" class=\"dataframe\">\n",
       "  <thead>\n",
       "    <tr style=\"text-align: right;\">\n",
       "      <th></th>\n",
       "      <th>Year</th>\n",
       "      <th>Kilometers_Driven</th>\n",
       "      <th>Mileage</th>\n",
       "      <th>Engine</th>\n",
       "      <th>Power</th>\n",
       "      <th>Seats</th>\n",
       "      <th>New_price</th>\n",
       "      <th>Price</th>\n",
       "    </tr>\n",
       "  </thead>\n",
       "  <tbody>\n",
       "    <tr>\n",
       "      <th>count</th>\n",
       "      <td>7253.000000</td>\n",
       "      <td>7.253000e+03</td>\n",
       "      <td>7251.000000</td>\n",
       "      <td>7207.000000</td>\n",
       "      <td>7078.000000</td>\n",
       "      <td>7200.000000</td>\n",
       "      <td>1006.000000</td>\n",
       "      <td>6019.000000</td>\n",
       "    </tr>\n",
       "    <tr>\n",
       "      <th>mean</th>\n",
       "      <td>2013.365366</td>\n",
       "      <td>5.869906e+04</td>\n",
       "      <td>18.141580</td>\n",
       "      <td>1616.573470</td>\n",
       "      <td>112.765214</td>\n",
       "      <td>5.280417</td>\n",
       "      <td>22.779692</td>\n",
       "      <td>9.479468</td>\n",
       "    </tr>\n",
       "    <tr>\n",
       "      <th>std</th>\n",
       "      <td>3.254421</td>\n",
       "      <td>8.442772e+04</td>\n",
       "      <td>4.562197</td>\n",
       "      <td>595.285137</td>\n",
       "      <td>53.493553</td>\n",
       "      <td>0.809277</td>\n",
       "      <td>27.759344</td>\n",
       "      <td>11.187917</td>\n",
       "    </tr>\n",
       "    <tr>\n",
       "      <th>min</th>\n",
       "      <td>1996.000000</td>\n",
       "      <td>1.710000e+02</td>\n",
       "      <td>0.000000</td>\n",
       "      <td>72.000000</td>\n",
       "      <td>34.200000</td>\n",
       "      <td>2.000000</td>\n",
       "      <td>3.910000</td>\n",
       "      <td>0.440000</td>\n",
       "    </tr>\n",
       "    <tr>\n",
       "      <th>25%</th>\n",
       "      <td>2011.000000</td>\n",
       "      <td>3.400000e+04</td>\n",
       "      <td>15.170000</td>\n",
       "      <td>1198.000000</td>\n",
       "      <td>75.000000</td>\n",
       "      <td>5.000000</td>\n",
       "      <td>7.885000</td>\n",
       "      <td>3.500000</td>\n",
       "    </tr>\n",
       "    <tr>\n",
       "      <th>50%</th>\n",
       "      <td>2014.000000</td>\n",
       "      <td>5.341600e+04</td>\n",
       "      <td>18.160000</td>\n",
       "      <td>1493.000000</td>\n",
       "      <td>94.000000</td>\n",
       "      <td>5.000000</td>\n",
       "      <td>11.570000</td>\n",
       "      <td>5.640000</td>\n",
       "    </tr>\n",
       "    <tr>\n",
       "      <th>75%</th>\n",
       "      <td>2016.000000</td>\n",
       "      <td>7.300000e+04</td>\n",
       "      <td>21.100000</td>\n",
       "      <td>1968.000000</td>\n",
       "      <td>138.100000</td>\n",
       "      <td>5.000000</td>\n",
       "      <td>26.042500</td>\n",
       "      <td>9.950000</td>\n",
       "    </tr>\n",
       "    <tr>\n",
       "      <th>max</th>\n",
       "      <td>2019.000000</td>\n",
       "      <td>6.500000e+06</td>\n",
       "      <td>33.540000</td>\n",
       "      <td>5998.000000</td>\n",
       "      <td>616.000000</td>\n",
       "      <td>10.000000</td>\n",
       "      <td>375.000000</td>\n",
       "      <td>160.000000</td>\n",
       "    </tr>\n",
       "  </tbody>\n",
       "</table>\n",
       "</div>"
      ],
      "text/plain": [
       "              Year  Kilometers_Driven      Mileage       Engine        Power  \\\n",
       "count  7253.000000       7.253000e+03  7251.000000  7207.000000  7078.000000   \n",
       "mean   2013.365366       5.869906e+04    18.141580  1616.573470   112.765214   \n",
       "std       3.254421       8.442772e+04     4.562197   595.285137    53.493553   \n",
       "min    1996.000000       1.710000e+02     0.000000    72.000000    34.200000   \n",
       "25%    2011.000000       3.400000e+04    15.170000  1198.000000    75.000000   \n",
       "50%    2014.000000       5.341600e+04    18.160000  1493.000000    94.000000   \n",
       "75%    2016.000000       7.300000e+04    21.100000  1968.000000   138.100000   \n",
       "max    2019.000000       6.500000e+06    33.540000  5998.000000   616.000000   \n",
       "\n",
       "             Seats    New_price        Price  \n",
       "count  7200.000000  1006.000000  6019.000000  \n",
       "mean      5.280417    22.779692     9.479468  \n",
       "std       0.809277    27.759344    11.187917  \n",
       "min       2.000000     3.910000     0.440000  \n",
       "25%       5.000000     7.885000     3.500000  \n",
       "50%       5.000000    11.570000     5.640000  \n",
       "75%       5.000000    26.042500     9.950000  \n",
       "max      10.000000   375.000000   160.000000  "
      ]
     },
     "execution_count": 9,
     "metadata": {},
     "output_type": "execute_result"
    }
   ],
   "source": [
    "# Explore basic summary statistics of numeric variables. Hint: Use describe() method.\n",
    "data.describe()"
   ]
  },
  {
   "cell_type": "markdown",
   "metadata": {
    "id": "L_1gUwvctOSm"
   },
   "source": [
    "**Observations and Insights:\n",
    "We can see that the variable Year and Mileage are negatively skewed with the variable as the mean is less than the median. On the other hand, variables Engine, Power, Seats, New_price, and Price are positively skewed, with variables New_price and Price being the most positively skewed i.e. mean is greater than median**"
   ]
  },
  {
   "cell_type": "markdown",
   "metadata": {
    "id": "FE62g5aoVL3W"
   },
   "source": [
    "### **Let us also explore the summary statistics of all categorical variables and the number of unique observations in each category**"
   ]
  },
  {
   "cell_type": "code",
   "execution_count": 10,
   "metadata": {
    "id": "SKOwkEHItOSm"
   },
   "outputs": [
    {
     "data": {
      "text/html": [
       "<div>\n",
       "<style scoped>\n",
       "    .dataframe tbody tr th:only-of-type {\n",
       "        vertical-align: middle;\n",
       "    }\n",
       "\n",
       "    .dataframe tbody tr th {\n",
       "        vertical-align: top;\n",
       "    }\n",
       "\n",
       "    .dataframe thead th {\n",
       "        text-align: right;\n",
       "    }\n",
       "</style>\n",
       "<table border=\"1\" class=\"dataframe\">\n",
       "  <thead>\n",
       "    <tr style=\"text-align: right;\">\n",
       "      <th></th>\n",
       "      <th>Name</th>\n",
       "      <th>Location</th>\n",
       "      <th>Fuel_Type</th>\n",
       "      <th>Transmission</th>\n",
       "      <th>Owner_Type</th>\n",
       "    </tr>\n",
       "  </thead>\n",
       "  <tbody>\n",
       "    <tr>\n",
       "      <th>count</th>\n",
       "      <td>7253</td>\n",
       "      <td>7253</td>\n",
       "      <td>7253</td>\n",
       "      <td>7253</td>\n",
       "      <td>7253</td>\n",
       "    </tr>\n",
       "    <tr>\n",
       "      <th>unique</th>\n",
       "      <td>2041</td>\n",
       "      <td>11</td>\n",
       "      <td>5</td>\n",
       "      <td>2</td>\n",
       "      <td>4</td>\n",
       "    </tr>\n",
       "    <tr>\n",
       "      <th>top</th>\n",
       "      <td>Mahindra XUV500 W8 2WD</td>\n",
       "      <td>Mumbai</td>\n",
       "      <td>Diesel</td>\n",
       "      <td>Manual</td>\n",
       "      <td>First</td>\n",
       "    </tr>\n",
       "    <tr>\n",
       "      <th>freq</th>\n",
       "      <td>55</td>\n",
       "      <td>949</td>\n",
       "      <td>3852</td>\n",
       "      <td>5204</td>\n",
       "      <td>5952</td>\n",
       "    </tr>\n",
       "  </tbody>\n",
       "</table>\n",
       "</div>"
      ],
      "text/plain": [
       "                          Name Location Fuel_Type Transmission Owner_Type\n",
       "count                     7253     7253      7253         7253       7253\n",
       "unique                    2041       11         5            2          4\n",
       "top     Mahindra XUV500 W8 2WD   Mumbai    Diesel       Manual      First\n",
       "freq                        55      949      3852         5204       5952"
      ]
     },
     "execution_count": 10,
     "metadata": {},
     "output_type": "execute_result"
    }
   ],
   "source": [
    "# Explore basic summary statistics of categorical variables. Hint: Use the argument include = ['object'] \n",
    "data.describe(include = ['object'])"
   ]
  },
  {
   "cell_type": "markdown",
   "metadata": {
    "id": "EaSIWEHUtOSn"
   },
   "source": [
    "**Number of unique observations in each category**"
   ]
  },
  {
   "cell_type": "code",
   "execution_count": 11,
   "metadata": {
    "id": "IKOWSKhqVL3X"
   },
   "outputs": [
    {
     "name": "stdout",
     "output_type": "stream",
     "text": [
      "For column: Name\n",
      "['Maruti Wagon R LXI CNG' 'Hyundai Creta 1.6 CRDi SX Option'\n",
      " 'Honda Jazz V' ... 'Ford EcoSport 1.5 Petrol Ambiente'\n",
      " 'Jeep Compass 1.4 Sport' 'Hyundai Elite i20 Magna Plus']\n",
      "--------------------------------------------------\n",
      "For column: Location\n",
      "['Mumbai' 'Pune' 'Chennai' 'Coimbatore' 'Hyderabad' 'Jaipur' 'Kochi'\n",
      " 'Kolkata' 'Delhi' 'Bangalore' 'Ahmedabad']\n",
      "--------------------------------------------------\n",
      "For column: Fuel_Type\n",
      "['CNG' 'Diesel' 'Petrol' 'LPG' 'Electric']\n",
      "--------------------------------------------------\n",
      "For column: Transmission\n",
      "['Manual' 'Automatic']\n",
      "--------------------------------------------------\n",
      "For column: Owner_Type\n",
      "['First' 'Second' 'Fourth & Above' 'Third']\n",
      "--------------------------------------------------\n"
     ]
    }
   ],
   "source": [
    "cat_cols = data.select_dtypes(include = ['object']).columns\n",
    "\n",
    "for column in cat_cols:\n",
    "    \n",
    "    print(\"For column:\", column)\n",
    "    \n",
    "    print(data[column].unique())\n",
    "    \n",
    "    print('-'*50)"
   ]
  },
  {
   "cell_type": "markdown",
   "metadata": {
    "id": "K8ck0A1ltOSn"
   },
   "source": [
    "#### **Observations and Insights: There is a very large variety of Names for the Car. The cities category is limited to Mumbai, Pune, Chennai, Coimbatore, Hyderabad, Jaipur, Kochi, Kolkata, Delhi, Bangalore, and Ahmedabad. Fuel_type contains unique entries for CNG, Diesel, Petrol, LPG, and Electric. Transmission belongs to either Automatic or Manual. Lastly, Owner_type contains category of First, Second, Fourth & Above and Third.**"
   ]
  },
  {
   "cell_type": "markdown",
   "metadata": {
    "id": "E1XK56IlVL3X"
   },
   "source": [
    "**Think About It**: \n",
    "\n",
    "- We could observe from summary statistics that kilometers_driven has extreme values. Can we look at the manufactured year for cars with extreme values for kilometers_driven? \n",
    "- Also, we could observe the feature mileage has values zero. Can the mileage of a car be zero?"
   ]
  },
  {
   "cell_type": "markdown",
   "metadata": {
    "id": "xT4ddKw_VL3X"
   },
   "source": [
    "**Let's explore the two points mentioned above**"
   ]
  },
  {
   "cell_type": "markdown",
   "metadata": {
    "id": "V5IwjyYstOSn"
   },
   "source": [
    "**Check Kilometers_Driven extreme values**"
   ]
  },
  {
   "cell_type": "code",
   "execution_count": 12,
   "metadata": {
    "id": "HqsfH-VFtOSo"
   },
   "outputs": [
    {
     "data": {
      "text/html": [
       "<div>\n",
       "<style scoped>\n",
       "    .dataframe tbody tr th:only-of-type {\n",
       "        vertical-align: middle;\n",
       "    }\n",
       "\n",
       "    .dataframe tbody tr th {\n",
       "        vertical-align: top;\n",
       "    }\n",
       "\n",
       "    .dataframe thead th {\n",
       "        text-align: right;\n",
       "    }\n",
       "</style>\n",
       "<table border=\"1\" class=\"dataframe\">\n",
       "  <thead>\n",
       "    <tr style=\"text-align: right;\">\n",
       "      <th></th>\n",
       "      <th>Name</th>\n",
       "      <th>Location</th>\n",
       "      <th>Year</th>\n",
       "      <th>Kilometers_Driven</th>\n",
       "      <th>Fuel_Type</th>\n",
       "      <th>Transmission</th>\n",
       "      <th>Owner_Type</th>\n",
       "      <th>Mileage</th>\n",
       "      <th>Engine</th>\n",
       "      <th>Power</th>\n",
       "      <th>Seats</th>\n",
       "      <th>New_price</th>\n",
       "      <th>Price</th>\n",
       "    </tr>\n",
       "  </thead>\n",
       "  <tbody>\n",
       "    <tr>\n",
       "      <th>2328</th>\n",
       "      <td>BMW X5 xDrive 30d M Sport</td>\n",
       "      <td>Chennai</td>\n",
       "      <td>2017</td>\n",
       "      <td>6500000</td>\n",
       "      <td>Diesel</td>\n",
       "      <td>Automatic</td>\n",
       "      <td>First</td>\n",
       "      <td>15.97</td>\n",
       "      <td>2993.0</td>\n",
       "      <td>258.00</td>\n",
       "      <td>5.0</td>\n",
       "      <td>NaN</td>\n",
       "      <td>65.00</td>\n",
       "    </tr>\n",
       "    <tr>\n",
       "      <th>340</th>\n",
       "      <td>Skoda Octavia Ambition Plus 2.0 TDI AT</td>\n",
       "      <td>Kolkata</td>\n",
       "      <td>2013</td>\n",
       "      <td>775000</td>\n",
       "      <td>Diesel</td>\n",
       "      <td>Automatic</td>\n",
       "      <td>First</td>\n",
       "      <td>19.30</td>\n",
       "      <td>1968.0</td>\n",
       "      <td>141.00</td>\n",
       "      <td>5.0</td>\n",
       "      <td>NaN</td>\n",
       "      <td>7.50</td>\n",
       "    </tr>\n",
       "    <tr>\n",
       "      <th>1860</th>\n",
       "      <td>Volkswagen Vento Diesel Highline</td>\n",
       "      <td>Chennai</td>\n",
       "      <td>2013</td>\n",
       "      <td>720000</td>\n",
       "      <td>Diesel</td>\n",
       "      <td>Manual</td>\n",
       "      <td>First</td>\n",
       "      <td>20.54</td>\n",
       "      <td>1598.0</td>\n",
       "      <td>103.60</td>\n",
       "      <td>5.0</td>\n",
       "      <td>NaN</td>\n",
       "      <td>5.90</td>\n",
       "    </tr>\n",
       "    <tr>\n",
       "      <th>358</th>\n",
       "      <td>Hyundai i10 Magna 1.2</td>\n",
       "      <td>Chennai</td>\n",
       "      <td>2009</td>\n",
       "      <td>620000</td>\n",
       "      <td>Petrol</td>\n",
       "      <td>Manual</td>\n",
       "      <td>First</td>\n",
       "      <td>20.36</td>\n",
       "      <td>1197.0</td>\n",
       "      <td>78.90</td>\n",
       "      <td>5.0</td>\n",
       "      <td>NaN</td>\n",
       "      <td>2.70</td>\n",
       "    </tr>\n",
       "    <tr>\n",
       "      <th>2823</th>\n",
       "      <td>Volkswagen Jetta 2013-2015 2.0L TDI Highline AT</td>\n",
       "      <td>Chennai</td>\n",
       "      <td>2015</td>\n",
       "      <td>480000</td>\n",
       "      <td>Diesel</td>\n",
       "      <td>Automatic</td>\n",
       "      <td>First</td>\n",
       "      <td>16.96</td>\n",
       "      <td>1968.0</td>\n",
       "      <td>138.03</td>\n",
       "      <td>5.0</td>\n",
       "      <td>NaN</td>\n",
       "      <td>13.00</td>\n",
       "    </tr>\n",
       "    <tr>\n",
       "      <th>3092</th>\n",
       "      <td>Honda City i VTEC SV</td>\n",
       "      <td>Kolkata</td>\n",
       "      <td>2015</td>\n",
       "      <td>480000</td>\n",
       "      <td>Petrol</td>\n",
       "      <td>Manual</td>\n",
       "      <td>First</td>\n",
       "      <td>17.40</td>\n",
       "      <td>1497.0</td>\n",
       "      <td>117.30</td>\n",
       "      <td>5.0</td>\n",
       "      <td>NaN</td>\n",
       "      <td>5.00</td>\n",
       "    </tr>\n",
       "    <tr>\n",
       "      <th>4491</th>\n",
       "      <td>Hyundai i20 Magna Optional 1.2</td>\n",
       "      <td>Bangalore</td>\n",
       "      <td>2013</td>\n",
       "      <td>445000</td>\n",
       "      <td>Petrol</td>\n",
       "      <td>Manual</td>\n",
       "      <td>First</td>\n",
       "      <td>18.50</td>\n",
       "      <td>1197.0</td>\n",
       "      <td>82.90</td>\n",
       "      <td>5.0</td>\n",
       "      <td>NaN</td>\n",
       "      <td>4.45</td>\n",
       "    </tr>\n",
       "    <tr>\n",
       "      <th>6921</th>\n",
       "      <td>Maruti Swift Dzire Tour LDI</td>\n",
       "      <td>Jaipur</td>\n",
       "      <td>2012</td>\n",
       "      <td>350000</td>\n",
       "      <td>Diesel</td>\n",
       "      <td>Manual</td>\n",
       "      <td>First</td>\n",
       "      <td>23.40</td>\n",
       "      <td>1248.0</td>\n",
       "      <td>74.00</td>\n",
       "      <td>5.0</td>\n",
       "      <td>NaN</td>\n",
       "      <td>NaN</td>\n",
       "    </tr>\n",
       "    <tr>\n",
       "      <th>3649</th>\n",
       "      <td>Tata Indigo LS</td>\n",
       "      <td>Jaipur</td>\n",
       "      <td>2008</td>\n",
       "      <td>300000</td>\n",
       "      <td>Diesel</td>\n",
       "      <td>Manual</td>\n",
       "      <td>First</td>\n",
       "      <td>17.00</td>\n",
       "      <td>1405.0</td>\n",
       "      <td>70.00</td>\n",
       "      <td>5.0</td>\n",
       "      <td>NaN</td>\n",
       "      <td>1.00</td>\n",
       "    </tr>\n",
       "    <tr>\n",
       "      <th>1528</th>\n",
       "      <td>Toyota Innova 2.5 G (Diesel) 8 Seater BS IV</td>\n",
       "      <td>Hyderabad</td>\n",
       "      <td>2005</td>\n",
       "      <td>299322</td>\n",
       "      <td>Diesel</td>\n",
       "      <td>Manual</td>\n",
       "      <td>First</td>\n",
       "      <td>12.80</td>\n",
       "      <td>2494.0</td>\n",
       "      <td>102.00</td>\n",
       "      <td>8.0</td>\n",
       "      <td>NaN</td>\n",
       "      <td>4.00</td>\n",
       "    </tr>\n",
       "  </tbody>\n",
       "</table>\n",
       "</div>"
      ],
      "text/plain": [
       "                                                 Name   Location  Year  \\\n",
       "2328                        BMW X5 xDrive 30d M Sport    Chennai  2017   \n",
       "340            Skoda Octavia Ambition Plus 2.0 TDI AT    Kolkata  2013   \n",
       "1860                 Volkswagen Vento Diesel Highline    Chennai  2013   \n",
       "358                             Hyundai i10 Magna 1.2    Chennai  2009   \n",
       "2823  Volkswagen Jetta 2013-2015 2.0L TDI Highline AT    Chennai  2015   \n",
       "3092                             Honda City i VTEC SV    Kolkata  2015   \n",
       "4491                   Hyundai i20 Magna Optional 1.2  Bangalore  2013   \n",
       "6921                      Maruti Swift Dzire Tour LDI     Jaipur  2012   \n",
       "3649                                   Tata Indigo LS     Jaipur  2008   \n",
       "1528      Toyota Innova 2.5 G (Diesel) 8 Seater BS IV  Hyderabad  2005   \n",
       "\n",
       "      Kilometers_Driven Fuel_Type Transmission Owner_Type  Mileage  Engine  \\\n",
       "2328            6500000    Diesel    Automatic      First    15.97  2993.0   \n",
       "340              775000    Diesel    Automatic      First    19.30  1968.0   \n",
       "1860             720000    Diesel       Manual      First    20.54  1598.0   \n",
       "358              620000    Petrol       Manual      First    20.36  1197.0   \n",
       "2823             480000    Diesel    Automatic      First    16.96  1968.0   \n",
       "3092             480000    Petrol       Manual      First    17.40  1497.0   \n",
       "4491             445000    Petrol       Manual      First    18.50  1197.0   \n",
       "6921             350000    Diesel       Manual      First    23.40  1248.0   \n",
       "3649             300000    Diesel       Manual      First    17.00  1405.0   \n",
       "1528             299322    Diesel       Manual      First    12.80  2494.0   \n",
       "\n",
       "       Power  Seats  New_price  Price  \n",
       "2328  258.00    5.0        NaN  65.00  \n",
       "340   141.00    5.0        NaN   7.50  \n",
       "1860  103.60    5.0        NaN   5.90  \n",
       "358    78.90    5.0        NaN   2.70  \n",
       "2823  138.03    5.0        NaN  13.00  \n",
       "3092  117.30    5.0        NaN   5.00  \n",
       "4491   82.90    5.0        NaN   4.45  \n",
       "6921   74.00    5.0        NaN    NaN  \n",
       "3649   70.00    5.0        NaN   1.00  \n",
       "1528  102.00    8.0        NaN   4.00  "
      ]
     },
     "execution_count": 12,
     "metadata": {},
     "output_type": "execute_result"
    }
   ],
   "source": [
    "# Sort the dataset in 'descending' order using the feature 'Kilometers_Driven'\n",
    "data.sort_values(\"Kilometers_Driven\",ascending = False).head(10)"
   ]
  },
  {
   "cell_type": "markdown",
   "metadata": {
    "id": "rLtq9uqgVL3X"
   },
   "source": [
    "In the first row, a car manufactured as recently as 2017 having been driven 6500000 km is almost impossible. It can be considered as data entry error and so we can remove this value/entry from data."
   ]
  },
  {
   "cell_type": "code",
   "execution_count": 13,
   "metadata": {},
   "outputs": [
    {
     "data": {
      "text/html": [
       "<div>\n",
       "<style scoped>\n",
       "    .dataframe tbody tr th:only-of-type {\n",
       "        vertical-align: middle;\n",
       "    }\n",
       "\n",
       "    .dataframe tbody tr th {\n",
       "        vertical-align: top;\n",
       "    }\n",
       "\n",
       "    .dataframe thead th {\n",
       "        text-align: right;\n",
       "    }\n",
       "</style>\n",
       "<table border=\"1\" class=\"dataframe\">\n",
       "  <thead>\n",
       "    <tr style=\"text-align: right;\">\n",
       "      <th></th>\n",
       "      <th>Name</th>\n",
       "      <th>Location</th>\n",
       "      <th>Year</th>\n",
       "      <th>Kilometers_Driven</th>\n",
       "      <th>Fuel_Type</th>\n",
       "      <th>Transmission</th>\n",
       "      <th>Owner_Type</th>\n",
       "      <th>Mileage</th>\n",
       "      <th>Engine</th>\n",
       "      <th>Power</th>\n",
       "      <th>Seats</th>\n",
       "      <th>New_price</th>\n",
       "      <th>Price</th>\n",
       "    </tr>\n",
       "  </thead>\n",
       "  <tbody>\n",
       "    <tr>\n",
       "      <th>6201</th>\n",
       "      <td>Maruti Alto LXI</td>\n",
       "      <td>Kolkata</td>\n",
       "      <td>2019</td>\n",
       "      <td>1000</td>\n",
       "      <td>Petrol</td>\n",
       "      <td>Manual</td>\n",
       "      <td>First</td>\n",
       "      <td>24.70</td>\n",
       "      <td>796.0</td>\n",
       "      <td>47.30</td>\n",
       "      <td>5.0</td>\n",
       "      <td>3.99</td>\n",
       "      <td>NaN</td>\n",
       "    </tr>\n",
       "    <tr>\n",
       "      <th>5941</th>\n",
       "      <td>Renault KWID RXL</td>\n",
       "      <td>Pune</td>\n",
       "      <td>2018</td>\n",
       "      <td>1000</td>\n",
       "      <td>Petrol</td>\n",
       "      <td>Manual</td>\n",
       "      <td>First</td>\n",
       "      <td>25.17</td>\n",
       "      <td>799.0</td>\n",
       "      <td>53.30</td>\n",
       "      <td>5.0</td>\n",
       "      <td>4.45</td>\n",
       "      <td>3.40</td>\n",
       "    </tr>\n",
       "    <tr>\n",
       "      <th>1161</th>\n",
       "      <td>Tata Tigor 1.2 Revotron XTA</td>\n",
       "      <td>Ahmedabad</td>\n",
       "      <td>2018</td>\n",
       "      <td>1000</td>\n",
       "      <td>Petrol</td>\n",
       "      <td>Automatic</td>\n",
       "      <td>First</td>\n",
       "      <td>20.30</td>\n",
       "      <td>1199.0</td>\n",
       "      <td>84.00</td>\n",
       "      <td>5.0</td>\n",
       "      <td>NaN</td>\n",
       "      <td>6.85</td>\n",
       "    </tr>\n",
       "    <tr>\n",
       "      <th>6760</th>\n",
       "      <td>Fiat Avventura Urban Cross 1.3 Multijet Emotion</td>\n",
       "      <td>Kolkata</td>\n",
       "      <td>2019</td>\n",
       "      <td>1000</td>\n",
       "      <td>Diesel</td>\n",
       "      <td>Manual</td>\n",
       "      <td>First</td>\n",
       "      <td>20.50</td>\n",
       "      <td>1248.0</td>\n",
       "      <td>91.72</td>\n",
       "      <td>5.0</td>\n",
       "      <td>9.26</td>\n",
       "      <td>NaN</td>\n",
       "    </tr>\n",
       "    <tr>\n",
       "      <th>173</th>\n",
       "      <td>Hyundai Grand i10 1.2 Kappa Asta</td>\n",
       "      <td>Kolkata</td>\n",
       "      <td>2019</td>\n",
       "      <td>1000</td>\n",
       "      <td>Petrol</td>\n",
       "      <td>Manual</td>\n",
       "      <td>First</td>\n",
       "      <td>18.90</td>\n",
       "      <td>1197.0</td>\n",
       "      <td>81.86</td>\n",
       "      <td>5.0</td>\n",
       "      <td>7.39</td>\n",
       "      <td>6.50</td>\n",
       "    </tr>\n",
       "    <tr>\n",
       "      <th>5339</th>\n",
       "      <td>Hyundai i20 Active SX Dual Tone Petrol</td>\n",
       "      <td>Pune</td>\n",
       "      <td>2019</td>\n",
       "      <td>1000</td>\n",
       "      <td>Petrol</td>\n",
       "      <td>Manual</td>\n",
       "      <td>First</td>\n",
       "      <td>17.19</td>\n",
       "      <td>1197.0</td>\n",
       "      <td>81.86</td>\n",
       "      <td>5.0</td>\n",
       "      <td>10.25</td>\n",
       "      <td>8.60</td>\n",
       "    </tr>\n",
       "    <tr>\n",
       "      <th>1598</th>\n",
       "      <td>Tata Xenon XT EX 4X2</td>\n",
       "      <td>Jaipur</td>\n",
       "      <td>2017</td>\n",
       "      <td>1000</td>\n",
       "      <td>Diesel</td>\n",
       "      <td>Manual</td>\n",
       "      <td>First</td>\n",
       "      <td>13.49</td>\n",
       "      <td>2179.0</td>\n",
       "      <td>138.03</td>\n",
       "      <td>5.0</td>\n",
       "      <td>NaN</td>\n",
       "      <td>7.50</td>\n",
       "    </tr>\n",
       "    <tr>\n",
       "      <th>1242</th>\n",
       "      <td>Jaguar XE 2.0L Diesel Prestige</td>\n",
       "      <td>Delhi</td>\n",
       "      <td>2018</td>\n",
       "      <td>1000</td>\n",
       "      <td>Diesel</td>\n",
       "      <td>Automatic</td>\n",
       "      <td>First</td>\n",
       "      <td>13.60</td>\n",
       "      <td>1999.0</td>\n",
       "      <td>177.00</td>\n",
       "      <td>5.0</td>\n",
       "      <td>52.77</td>\n",
       "      <td>40.00</td>\n",
       "    </tr>\n",
       "    <tr>\n",
       "      <th>5606</th>\n",
       "      <td>Maruti Wagon R ZXI AMT 1.2</td>\n",
       "      <td>Mumbai</td>\n",
       "      <td>2019</td>\n",
       "      <td>600</td>\n",
       "      <td>Petrol</td>\n",
       "      <td>Automatic</td>\n",
       "      <td>First</td>\n",
       "      <td>21.50</td>\n",
       "      <td>1197.0</td>\n",
       "      <td>81.80</td>\n",
       "      <td>5.0</td>\n",
       "      <td>6.80</td>\n",
       "      <td>6.25</td>\n",
       "    </tr>\n",
       "    <tr>\n",
       "      <th>1361</th>\n",
       "      <td>Maruti Alto 800 2016-2019 VXI</td>\n",
       "      <td>Mumbai</td>\n",
       "      <td>2019</td>\n",
       "      <td>171</td>\n",
       "      <td>Petrol</td>\n",
       "      <td>Manual</td>\n",
       "      <td>First</td>\n",
       "      <td>24.70</td>\n",
       "      <td>796.0</td>\n",
       "      <td>47.30</td>\n",
       "      <td>5.0</td>\n",
       "      <td>NaN</td>\n",
       "      <td>3.60</td>\n",
       "    </tr>\n",
       "  </tbody>\n",
       "</table>\n",
       "</div>"
      ],
      "text/plain": [
       "                                                 Name   Location  Year  \\\n",
       "6201                                  Maruti Alto LXI    Kolkata  2019   \n",
       "5941                                 Renault KWID RXL       Pune  2018   \n",
       "1161                      Tata Tigor 1.2 Revotron XTA  Ahmedabad  2018   \n",
       "6760  Fiat Avventura Urban Cross 1.3 Multijet Emotion    Kolkata  2019   \n",
       "173                  Hyundai Grand i10 1.2 Kappa Asta    Kolkata  2019   \n",
       "5339           Hyundai i20 Active SX Dual Tone Petrol       Pune  2019   \n",
       "1598                             Tata Xenon XT EX 4X2     Jaipur  2017   \n",
       "1242                   Jaguar XE 2.0L Diesel Prestige      Delhi  2018   \n",
       "5606                       Maruti Wagon R ZXI AMT 1.2     Mumbai  2019   \n",
       "1361                    Maruti Alto 800 2016-2019 VXI     Mumbai  2019   \n",
       "\n",
       "      Kilometers_Driven Fuel_Type Transmission Owner_Type  Mileage  Engine  \\\n",
       "6201               1000    Petrol       Manual      First    24.70   796.0   \n",
       "5941               1000    Petrol       Manual      First    25.17   799.0   \n",
       "1161               1000    Petrol    Automatic      First    20.30  1199.0   \n",
       "6760               1000    Diesel       Manual      First    20.50  1248.0   \n",
       "173                1000    Petrol       Manual      First    18.90  1197.0   \n",
       "5339               1000    Petrol       Manual      First    17.19  1197.0   \n",
       "1598               1000    Diesel       Manual      First    13.49  2179.0   \n",
       "1242               1000    Diesel    Automatic      First    13.60  1999.0   \n",
       "5606                600    Petrol    Automatic      First    21.50  1197.0   \n",
       "1361                171    Petrol       Manual      First    24.70   796.0   \n",
       "\n",
       "       Power  Seats  New_price  Price  \n",
       "6201   47.30    5.0       3.99    NaN  \n",
       "5941   53.30    5.0       4.45   3.40  \n",
       "1161   84.00    5.0        NaN   6.85  \n",
       "6760   91.72    5.0       9.26    NaN  \n",
       "173    81.86    5.0       7.39   6.50  \n",
       "5339   81.86    5.0      10.25   8.60  \n",
       "1598  138.03    5.0        NaN   7.50  \n",
       "1242  177.00    5.0      52.77  40.00  \n",
       "5606   81.80    5.0       6.80   6.25  \n",
       "1361   47.30    5.0        NaN   3.60  "
      ]
     },
     "execution_count": 13,
     "metadata": {},
     "output_type": "execute_result"
    }
   ],
   "source": [
    "data.sort_values(\"Kilometers_Driven\",ascending = False).tail(10)"
   ]
  },
  {
   "cell_type": "code",
   "execution_count": 14,
   "metadata": {
    "id": "gA65oQhoIrcx"
   },
   "outputs": [],
   "source": [
    "# Removing the 'row' at index 2328 from the data. Hint: use the argument inplace=True\n",
    "data.drop(index=2328,inplace = True)"
   ]
  },
  {
   "cell_type": "markdown",
   "metadata": {
    "id": "fDIBa5OFtOSo"
   },
   "source": [
    "**Check Mileage extreme values**"
   ]
  },
  {
   "cell_type": "code",
   "execution_count": 15,
   "metadata": {
    "id": "0zdqBCD-tOSp"
   },
   "outputs": [
    {
     "data": {
      "text/html": [
       "<div>\n",
       "<style scoped>\n",
       "    .dataframe tbody tr th:only-of-type {\n",
       "        vertical-align: middle;\n",
       "    }\n",
       "\n",
       "    .dataframe tbody tr th {\n",
       "        vertical-align: top;\n",
       "    }\n",
       "\n",
       "    .dataframe thead th {\n",
       "        text-align: right;\n",
       "    }\n",
       "</style>\n",
       "<table border=\"1\" class=\"dataframe\">\n",
       "  <thead>\n",
       "    <tr style=\"text-align: right;\">\n",
       "      <th></th>\n",
       "      <th>Name</th>\n",
       "      <th>Location</th>\n",
       "      <th>Year</th>\n",
       "      <th>Kilometers_Driven</th>\n",
       "      <th>Fuel_Type</th>\n",
       "      <th>Transmission</th>\n",
       "      <th>Owner_Type</th>\n",
       "      <th>Mileage</th>\n",
       "      <th>Engine</th>\n",
       "      <th>Power</th>\n",
       "      <th>Seats</th>\n",
       "      <th>New_price</th>\n",
       "      <th>Price</th>\n",
       "    </tr>\n",
       "  </thead>\n",
       "  <tbody>\n",
       "    <tr>\n",
       "      <th>2597</th>\n",
       "      <td>Hyundai Santro Xing XP</td>\n",
       "      <td>Pune</td>\n",
       "      <td>2007</td>\n",
       "      <td>70000</td>\n",
       "      <td>Petrol</td>\n",
       "      <td>Manual</td>\n",
       "      <td>First</td>\n",
       "      <td>0.0</td>\n",
       "      <td>1086.0</td>\n",
       "      <td>NaN</td>\n",
       "      <td>5.0</td>\n",
       "      <td>NaN</td>\n",
       "      <td>1.12</td>\n",
       "    </tr>\n",
       "    <tr>\n",
       "      <th>2343</th>\n",
       "      <td>Hyundai Santro AT</td>\n",
       "      <td>Hyderabad</td>\n",
       "      <td>2006</td>\n",
       "      <td>74483</td>\n",
       "      <td>Petrol</td>\n",
       "      <td>Automatic</td>\n",
       "      <td>First</td>\n",
       "      <td>0.0</td>\n",
       "      <td>999.0</td>\n",
       "      <td>NaN</td>\n",
       "      <td>5.0</td>\n",
       "      <td>NaN</td>\n",
       "      <td>2.30</td>\n",
       "    </tr>\n",
       "    <tr>\n",
       "      <th>5270</th>\n",
       "      <td>Honda City 1.5 GXI</td>\n",
       "      <td>Bangalore</td>\n",
       "      <td>2002</td>\n",
       "      <td>53000</td>\n",
       "      <td>Petrol</td>\n",
       "      <td>Manual</td>\n",
       "      <td>Second</td>\n",
       "      <td>0.0</td>\n",
       "      <td>NaN</td>\n",
       "      <td>NaN</td>\n",
       "      <td>NaN</td>\n",
       "      <td>NaN</td>\n",
       "      <td>1.85</td>\n",
       "    </tr>\n",
       "    <tr>\n",
       "      <th>424</th>\n",
       "      <td>Volkswagen Jetta 2007-2011 1.9 L TDI</td>\n",
       "      <td>Hyderabad</td>\n",
       "      <td>2010</td>\n",
       "      <td>42021</td>\n",
       "      <td>Diesel</td>\n",
       "      <td>Manual</td>\n",
       "      <td>First</td>\n",
       "      <td>0.0</td>\n",
       "      <td>1968.0</td>\n",
       "      <td>NaN</td>\n",
       "      <td>5.0</td>\n",
       "      <td>NaN</td>\n",
       "      <td>5.45</td>\n",
       "    </tr>\n",
       "    <tr>\n",
       "      <th>6857</th>\n",
       "      <td>Land Rover Freelander 2 TD4 SE</td>\n",
       "      <td>Mumbai</td>\n",
       "      <td>2011</td>\n",
       "      <td>87000</td>\n",
       "      <td>Diesel</td>\n",
       "      <td>Automatic</td>\n",
       "      <td>First</td>\n",
       "      <td>0.0</td>\n",
       "      <td>2179.0</td>\n",
       "      <td>115.0</td>\n",
       "      <td>5.0</td>\n",
       "      <td>NaN</td>\n",
       "      <td>NaN</td>\n",
       "    </tr>\n",
       "  </tbody>\n",
       "</table>\n",
       "</div>"
      ],
      "text/plain": [
       "                                      Name   Location  Year  \\\n",
       "2597                Hyundai Santro Xing XP       Pune  2007   \n",
       "2343                     Hyundai Santro AT  Hyderabad  2006   \n",
       "5270                    Honda City 1.5 GXI  Bangalore  2002   \n",
       "424   Volkswagen Jetta 2007-2011 1.9 L TDI  Hyderabad  2010   \n",
       "6857        Land Rover Freelander 2 TD4 SE     Mumbai  2011   \n",
       "\n",
       "      Kilometers_Driven Fuel_Type Transmission Owner_Type  Mileage  Engine  \\\n",
       "2597              70000    Petrol       Manual      First      0.0  1086.0   \n",
       "2343              74483    Petrol    Automatic      First      0.0   999.0   \n",
       "5270              53000    Petrol       Manual     Second      0.0     NaN   \n",
       "424               42021    Diesel       Manual      First      0.0  1968.0   \n",
       "6857              87000    Diesel    Automatic      First      0.0  2179.0   \n",
       "\n",
       "      Power  Seats  New_price  Price  \n",
       "2597    NaN    5.0        NaN   1.12  \n",
       "2343    NaN    5.0        NaN   2.30  \n",
       "5270    NaN    NaN        NaN   1.85  \n",
       "424     NaN    5.0        NaN   5.45  \n",
       "6857  115.0    5.0        NaN    NaN  "
      ]
     },
     "execution_count": 15,
     "metadata": {},
     "output_type": "execute_result"
    }
   ],
   "source": [
    "# Sort the dataset in 'ascending' order using the feature 'Mileage'\n",
    "data.sort_values(\"Mileage\").head()"
   ]
  },
  {
   "cell_type": "code",
   "execution_count": 16,
   "metadata": {},
   "outputs": [
    {
     "data": {
      "text/html": [
       "<div>\n",
       "<style scoped>\n",
       "    .dataframe tbody tr th:only-of-type {\n",
       "        vertical-align: middle;\n",
       "    }\n",
       "\n",
       "    .dataframe tbody tr th {\n",
       "        vertical-align: top;\n",
       "    }\n",
       "\n",
       "    .dataframe thead th {\n",
       "        text-align: right;\n",
       "    }\n",
       "</style>\n",
       "<table border=\"1\" class=\"dataframe\">\n",
       "  <thead>\n",
       "    <tr style=\"text-align: right;\">\n",
       "      <th></th>\n",
       "      <th>Name</th>\n",
       "      <th>Location</th>\n",
       "      <th>Year</th>\n",
       "      <th>Kilometers_Driven</th>\n",
       "      <th>Fuel_Type</th>\n",
       "      <th>Transmission</th>\n",
       "      <th>Owner_Type</th>\n",
       "      <th>Mileage</th>\n",
       "      <th>Engine</th>\n",
       "      <th>Power</th>\n",
       "      <th>Seats</th>\n",
       "      <th>New_price</th>\n",
       "      <th>Price</th>\n",
       "    </tr>\n",
       "  </thead>\n",
       "  <tbody>\n",
       "    <tr>\n",
       "      <th>3129</th>\n",
       "      <td>Maruti Wagon R CNG LXI</td>\n",
       "      <td>Delhi</td>\n",
       "      <td>2014</td>\n",
       "      <td>74663</td>\n",
       "      <td>CNG</td>\n",
       "      <td>Manual</td>\n",
       "      <td>First</td>\n",
       "      <td>33.54</td>\n",
       "      <td>998.0</td>\n",
       "      <td>67.04</td>\n",
       "      <td>5.0</td>\n",
       "      <td>5.35</td>\n",
       "      <td>3.25</td>\n",
       "    </tr>\n",
       "    <tr>\n",
       "      <th>2059</th>\n",
       "      <td>Maruti Wagon R CNG LXI</td>\n",
       "      <td>Mumbai</td>\n",
       "      <td>2013</td>\n",
       "      <td>54000</td>\n",
       "      <td>CNG</td>\n",
       "      <td>Manual</td>\n",
       "      <td>First</td>\n",
       "      <td>33.54</td>\n",
       "      <td>998.0</td>\n",
       "      <td>67.04</td>\n",
       "      <td>5.0</td>\n",
       "      <td>5.58</td>\n",
       "      <td>3.05</td>\n",
       "    </tr>\n",
       "    <tr>\n",
       "      <th>2371</th>\n",
       "      <td>Maruti Wagon R CNG LXI</td>\n",
       "      <td>Pune</td>\n",
       "      <td>2014</td>\n",
       "      <td>29202</td>\n",
       "      <td>CNG</td>\n",
       "      <td>Manual</td>\n",
       "      <td>First</td>\n",
       "      <td>33.54</td>\n",
       "      <td>998.0</td>\n",
       "      <td>67.04</td>\n",
       "      <td>5.0</td>\n",
       "      <td>5.54</td>\n",
       "      <td>3.90</td>\n",
       "    </tr>\n",
       "    <tr>\n",
       "      <th>4446</th>\n",
       "      <td>Mahindra E Verito D4</td>\n",
       "      <td>Chennai</td>\n",
       "      <td>2016</td>\n",
       "      <td>50000</td>\n",
       "      <td>Electric</td>\n",
       "      <td>Automatic</td>\n",
       "      <td>First</td>\n",
       "      <td>NaN</td>\n",
       "      <td>72.0</td>\n",
       "      <td>41.00</td>\n",
       "      <td>5.0</td>\n",
       "      <td>13.58</td>\n",
       "      <td>13.00</td>\n",
       "    </tr>\n",
       "    <tr>\n",
       "      <th>4904</th>\n",
       "      <td>Toyota Prius 2009-2016 Z4</td>\n",
       "      <td>Mumbai</td>\n",
       "      <td>2011</td>\n",
       "      <td>44000</td>\n",
       "      <td>Electric</td>\n",
       "      <td>Automatic</td>\n",
       "      <td>First</td>\n",
       "      <td>NaN</td>\n",
       "      <td>1798.0</td>\n",
       "      <td>73.00</td>\n",
       "      <td>5.0</td>\n",
       "      <td>NaN</td>\n",
       "      <td>12.75</td>\n",
       "    </tr>\n",
       "  </tbody>\n",
       "</table>\n",
       "</div>"
      ],
      "text/plain": [
       "                           Name Location  Year  Kilometers_Driven Fuel_Type  \\\n",
       "3129     Maruti Wagon R CNG LXI    Delhi  2014              74663       CNG   \n",
       "2059     Maruti Wagon R CNG LXI   Mumbai  2013              54000       CNG   \n",
       "2371     Maruti Wagon R CNG LXI     Pune  2014              29202       CNG   \n",
       "4446       Mahindra E Verito D4  Chennai  2016              50000  Electric   \n",
       "4904  Toyota Prius 2009-2016 Z4   Mumbai  2011              44000  Electric   \n",
       "\n",
       "     Transmission Owner_Type  Mileage  Engine  Power  Seats  New_price  Price  \n",
       "3129       Manual      First    33.54   998.0  67.04    5.0       5.35   3.25  \n",
       "2059       Manual      First    33.54   998.0  67.04    5.0       5.58   3.05  \n",
       "2371       Manual      First    33.54   998.0  67.04    5.0       5.54   3.90  \n",
       "4446    Automatic      First      NaN    72.0  41.00    5.0      13.58  13.00  \n",
       "4904    Automatic      First      NaN  1798.0  73.00    5.0        NaN  12.75  "
      ]
     },
     "execution_count": 16,
     "metadata": {},
     "output_type": "execute_result"
    }
   ],
   "source": [
    "data.sort_values(\"Mileage\").tail()"
   ]
  },
  {
   "cell_type": "markdown",
   "metadata": {
    "id": "FcQR7NMgtOSp"
   },
   "source": [
    "#### **Observations**\n",
    "* Mileage of cars can not be 0, so we should treat 0's as missing values. We will do it in the Feature Engineering part."
   ]
  },
  {
   "cell_type": "markdown",
   "metadata": {
    "id": "7Rwx-1ZuhU3D"
   },
   "source": [
    "## **Univariate Analysis**\n",
    "Univariate analysis is used to explore each variable in a data set, separately. It looks at the range of values, as well as the central tendency of the values. It can be done for both numerical and categorical variables."
   ]
  },
  {
   "cell_type": "markdown",
   "metadata": {
    "id": "XYmSIliuIrcy"
   },
   "source": [
    "## **1. Univariate Analysis - Numerical Data**\n",
    "Histograms and box plots help to visualize and describe numerical data. We use box plot and histogram to analyse the numerical columns."
   ]
  },
  {
   "cell_type": "code",
   "execution_count": 17,
   "metadata": {
    "id": "4IvqyxldtOSp"
   },
   "outputs": [],
   "source": [
    "# Let us write a function that will help us create a boxplot and histogram for any input numerical variable.\n",
    "# This function takes the numerical column as the input and returns the boxplots and histograms for the variable.\n",
    "\n",
    "def histogram_boxplot(feature, figsize = (15, 10), bins = None):\n",
    "    \n",
    "    \"\"\" Boxplot and histogram combined\n",
    "    \n",
    "    feature: 1-d feature array\n",
    "    \n",
    "    figsize: size of fig (default (9, 8))\n",
    "    \n",
    "    bins: number of bins (default None / auto)\n",
    "    \n",
    "    \"\"\"\n",
    "    f2, (ax_box2, ax_hist2) = plt.subplots(nrows = 2, # Number of rows of the subplot grid = 2\n",
    "                                           sharex = True, # X-axis will be shared among all subplots\n",
    "                                           gridspec_kw = {\"height_ratios\": (.25, .75)}, \n",
    "                                           figsize = figsize \n",
    "                                           ) # Creating the 2 subplots\n",
    "    \n",
    "    sns.boxplot(feature, ax = ax_box2, showmeans = True, color = 'violet') # Boxplot will be created and a symbol will indicate the mean value of the column\n",
    "    \n",
    "    sns.distplot(feature, kde = F, ax = ax_hist2, bins = bins, palette = \"winter\") if bins else sns.distplot(feature, kde = False, ax = ax_hist2) # For histogram\n",
    "    \n",
    "    ax_hist2.axvline(np.mean(feature), color = 'green', linestyle = '--') # Add mean to the histogram\n",
    "    \n",
    "    ax_hist2.axvline(np.median(feature), color = 'black', linestyle = '-') # Add median to the histogram"
   ]
  },
  {
   "cell_type": "markdown",
   "metadata": {
    "id": "63SJOZqbtOSp"
   },
   "source": [
    "**Let us plot histogram and box-plot for the feature 'Kilometers_Driven' to understand the distribution and outliers, if any.**"
   ]
  },
  {
   "cell_type": "code",
   "execution_count": 18,
   "metadata": {
    "id": "h3oGmDAktOSq"
   },
   "outputs": [
    {
     "data": {
      "image/png": "[encoded data removed]",
      "text/plain": [
       "<Figure size 1080x720 with 2 Axes>"
      ]
     },
     "metadata": {
      "needs_background": "light"
     },
     "output_type": "display_data"
    }
   ],
   "source": [
    "# Plot histogram and box-plot for 'Kilometers_Driven'\n",
    "histogram_boxplot(data['Kilometers_Driven'])"
   ]
  },
  {
   "cell_type": "markdown",
   "metadata": {
    "id": "J7VeOWAftOSq"
   },
   "source": [
    "**Think About It**: Kilometers_Driven is highly right-skewed. Can we use Log transformation of the feature to reduce/remove the skewness? Why can't we keep skewed data?"
   ]
  },
  {
   "cell_type": "code",
   "execution_count": 19,
   "metadata": {
    "id": "xvUxKBPetOSq"
   },
   "outputs": [
    {
     "data": {
      "image/png": "[encoded data removed]",
      "text/plain": [
       "<Figure size 432x288 with 1 Axes>"
      ]
     },
     "metadata": {
      "needs_background": "light"
     },
     "output_type": "display_data"
    }
   ],
   "source": [
    "# Log transformation of the feature 'Kilometers_Driven'\n",
    "sns.distplot(np.log(data[\"Kilometers_Driven\"]), axlabel = \"Log(Kilometers_Driven)\");"
   ]
  },
  {
   "cell_type": "markdown",
   "metadata": {
    "id": "RhVfiCG6tOSq"
   },
   "source": [
    "**Observations and Insights: Skewness, to a great extent has been eliminated, and the distribution seems to adopt a normal distribution. A very small amount of skewness is still present towards the left side.**"
   ]
  },
  {
   "cell_type": "code",
   "execution_count": 20,
   "metadata": {
    "id": "MSobKz9jtOSr"
   },
   "outputs": [],
   "source": [
    "# We can add a transformed kilometers_driven feature in data\n",
    "data[\"kilometers_driven_log\"] = np.log(data[\"Kilometers_Driven\"])"
   ]
  },
  {
   "cell_type": "markdown",
   "metadata": {
    "id": "5IZEyt7NVL3Z"
   },
   "source": [
    "**Note:** Like Kilometers_Driven, the distribution of Price is also highly skewed, we can use log transformation on this column to see if that helps normalize the distribution. And add the transformed variable into the dataset. You can name the variable as **'price_log'**."
   ]
  },
  {
   "cell_type": "code",
   "execution_count": 21,
   "metadata": {
    "id": "bU82nipkVL3Z"
   },
   "outputs": [
    {
     "data": {
      "image/png": "[encoded data removed]",
      "text/plain": [
       "<Figure size 1080x720 with 2 Axes>"
      ]
     },
     "metadata": {
      "needs_background": "light"
     },
     "output_type": "display_data"
    }
   ],
   "source": [
    "# Plot histogram and box-plot for 'Price'\n",
    "histogram_boxplot(data['Price'])"
   ]
  },
  {
   "cell_type": "code",
   "execution_count": 22,
   "metadata": {
    "id": "s16uiRXFVL3Z"
   },
   "outputs": [
    {
     "data": {
      "image/png": "[encoded data removed]",
      "text/plain": [
       "<Figure size 432x288 with 1 Axes>"
      ]
     },
     "metadata": {
      "needs_background": "light"
     },
     "output_type": "display_data"
    }
   ],
   "source": [
    "# Log transformation of the feature 'Price'\n",
    "sns.distplot(np.log(data[\"Price\"]), axlabel = \"Log(Price)\");"
   ]
  },
  {
   "cell_type": "code",
   "execution_count": 23,
   "metadata": {
    "id": "X_8uUAcEVL3Z"
   },
   "outputs": [],
   "source": [
    "data[\"Price_log\"] = np.log(data[\"Price\"])"
   ]
  },
  {
   "cell_type": "markdown",
   "metadata": {
    "id": "LaPbA-1ltOSr"
   },
   "source": [
    "**Note:** Try plotting histogram and box-plot for different numerical features and understand how the data looks like."
   ]
  },
  {
   "cell_type": "code",
   "execution_count": 24,
   "metadata": {},
   "outputs": [
    {
     "data": {
      "image/png": "[encoded data removed]",
      "text/plain": [
       "<Figure size 1080x720 with 2 Axes>"
      ]
     },
     "metadata": {
      "needs_background": "light"
     },
     "output_type": "display_data"
    }
   ],
   "source": [
    "# Plot histogram and box-plot for 'Power'\n",
    "histogram_boxplot(data['Power'])"
   ]
  },
  {
   "cell_type": "code",
   "execution_count": 25,
   "metadata": {},
   "outputs": [
    {
     "data": {
      "image/png": "[encoded data removed]",
      "text/plain": [
       "<Figure size 1080x720 with 2 Axes>"
      ]
     },
     "metadata": {
      "needs_background": "light"
     },
     "output_type": "display_data"
    }
   ],
   "source": [
    "# Plot histogram and box-plot for 'Engine'\n",
    "histogram_boxplot(data['Engine'])"
   ]
  },
  {
   "cell_type": "code",
   "execution_count": 26,
   "metadata": {},
   "outputs": [
    {
     "data": {
      "image/png": "[encoded data removed]",
      "text/plain": [
       "<Figure size 1080x720 with 2 Axes>"
      ]
     },
     "metadata": {
      "needs_background": "light"
     },
     "output_type": "display_data"
    }
   ],
   "source": [
    "# Plot histogram and box-plot for 'Year'\n",
    "histogram_boxplot(data['Year'])"
   ]
  },
  {
   "cell_type": "code",
   "execution_count": 27,
   "metadata": {},
   "outputs": [
    {
     "data": {
      "image/png": "[encoded data removed]",
      "text/plain": [
       "<Figure size 1080x720 with 2 Axes>"
      ]
     },
     "metadata": {
      "needs_background": "light"
     },
     "output_type": "display_data"
    }
   ],
   "source": [
    "# Plot histogram and box-plot for 'Mileage'\n",
    "histogram_boxplot(data['Mileage'])"
   ]
  },
  {
   "cell_type": "markdown",
   "metadata": {
    "id": "HwE0djBTtOSr"
   },
   "source": [
    "**Observations and Insights for all the plots: The distribution for the variable Year, as before, is negatively skewed, with a significant amount of outliers, considering the boxplot.\n",
    "The distribution for the variable Mileage is also negatively skewed, with outliers lying on both sides of the distribution.\n",
    "Just like the information before, the distribution for the variable Engine and Power is positively skewed, with a significant amount of outliers.\n",
    "However, the variable New_price seems to be containing a lot of outliers, with distribution being positively skewed as well.**\n"
   ]
  },
  {
   "cell_type": "markdown",
   "metadata": {
    "id": "vjT3FFoDIrc3"
   },
   "source": [
    "## **2. Univariate analysis - Categorical Data**"
   ]
  },
  {
   "cell_type": "code",
   "execution_count": 28,
   "metadata": {
    "id": "MZZW1y_ctOSt"
   },
   "outputs": [],
   "source": [
    "# Let us write a function that will help us create barplots that indicate the percentage for each category.\n",
    "# This function takes the categorical column as the input and returns the barplots for the variable.\n",
    "\n",
    "def perc_on_bar(z):\n",
    "    '''\n",
    "    plot\n",
    "    feature: categorical feature\n",
    "    the function won't work if a column is passed in hue parameter\n",
    "    '''\n",
    "\n",
    "    total = len(data[z]) # Length of the column\n",
    "    \n",
    "    plt.figure(figsize = (15, 5))\n",
    "    \n",
    "    ax = sns.countplot(data[z], palette = 'Paired', order = data[z].value_counts().index)\n",
    "    \n",
    "    for p in ax.patches:\n",
    "        \n",
    "        percentage = '{:.1f}%'.format(100 * p.get_height() / total) # Percentage of each class of the category\n",
    "        \n",
    "        x = p.get_x() + p.get_width() / 2 - 0.05 # Width of the plot\n",
    "        \n",
    "        y = p.get_y() + p.get_height()           # Hieght of the plot\n",
    "        \n",
    "        ax.annotate(percentage, (x, y), size = 12) # Annotate the percantage \n",
    "    \n",
    "    plt.show() # Show the plot"
   ]
  },
  {
   "cell_type": "markdown",
   "metadata": {
    "id": "lY4PNN04tOSt"
   },
   "source": [
    "**Let us plot barplot for the variable location. It will be helpful to know the number of percentage of cars from each city.**"
   ]
  },
  {
   "cell_type": "code",
   "execution_count": 29,
   "metadata": {
    "id": "OOLcER6KtOSu"
   },
   "outputs": [
    {
     "data": {
      "image/png": "[encoded data removed]",
      "text/plain": [
       "<Figure size 1080x360 with 1 Axes>"
      ]
     },
     "metadata": {
      "needs_background": "light"
     },
     "output_type": "display_data"
    }
   ],
   "source": [
    "# Bar Plot for 'Location'\n",
    "perc_on_bar('Location')"
   ]
  },
  {
   "cell_type": "markdown",
   "metadata": {
    "id": "ggQtrIJmVL3a"
   },
   "source": [
    "**Note:** Explore for other variables like Year, Fuel_Type, Transmission, Owner_Type`."
   ]
  },
  {
   "cell_type": "code",
   "execution_count": 30,
   "metadata": {},
   "outputs": [
    {
     "data": {
      "image/png": "[encoded data removed]",
      "text/plain": [
       "<Figure size 1080x360 with 1 Axes>"
      ]
     },
     "metadata": {
      "needs_background": "light"
     },
     "output_type": "display_data"
    }
   ],
   "source": [
    "# Bar Plot for 'Year'\n",
    "perc_on_bar('Year')"
   ]
  },
  {
   "cell_type": "code",
   "execution_count": 31,
   "metadata": {},
   "outputs": [
    {
     "data": {
      "image/png": "[encoded data removed]",
      "text/plain": [
       "<Figure size 1080x360 with 1 Axes>"
      ]
     },
     "metadata": {
      "needs_background": "light"
     },
     "output_type": "display_data"
    }
   ],
   "source": [
    "# Bar Plot for 'Fuel_Type'\n",
    "perc_on_bar('Fuel_Type')"
   ]
  },
  {
   "cell_type": "code",
   "execution_count": 32,
   "metadata": {},
   "outputs": [
    {
     "data": {
      "image/png": "[encoded data removed]",
      "text/plain": [
       "<Figure size 1080x360 with 1 Axes>"
      ]
     },
     "metadata": {
      "needs_background": "light"
     },
     "output_type": "display_data"
    }
   ],
   "source": [
    "# Bar Plot for 'Transmission'\n",
    "perc_on_bar('Transmission')"
   ]
  },
  {
   "cell_type": "code",
   "execution_count": 33,
   "metadata": {},
   "outputs": [
    {
     "data": {
      "image/png": "[encoded data removed]",
      "text/plain": [
       "<Figure size 1080x360 with 1 Axes>"
      ]
     },
     "metadata": {
      "needs_background": "light"
     },
     "output_type": "display_data"
    }
   ],
   "source": [
    "# Bar Plot for 'Owner_Type'\n",
    "perc_on_bar('Owner_Type')"
   ]
  },
  {
   "cell_type": "markdown",
   "metadata": {
    "id": "GmPUFwWQtOSu"
   },
   "source": [
    "**Observations and Insights from all plots: The largest percentage of cars i.e. 13.6% of the cars belong to the city of Mumbai, with the least percentage of cars belonging to the city of Ahmedabad(3.8%). 2015 and 2016 turned out to be the highest proportion in the manufacturing year category, with the least percentage of cars belonging to 1999 and 1996 (almost zero). More than half of the cars operated on diesel with almost no car being electric. 71.8% (almost 3/4th ) of all the cars had a manual transmission, with the rest of them having an automatic transmission. Lastly, first ownership in the category seemed to be the most significant one (82.1%) with very few i.e. 0.2% belonging to fourth & above**"
   ]
  },
  {
   "cell_type": "markdown",
   "metadata": {
    "id": "beo_tDmVhU3-"
   },
   "source": [
    "## **Bivariate Analysis**"
   ]
  },
  {
   "cell_type": "markdown",
   "metadata": {
    "id": "8xmd6go2Irc5"
   },
   "source": [
    "### **1. Scatter plot**\n",
    "A scatter plot allows us to see relationships between two variables. \n",
    "\n",
    "**Note: Use log transformed values 'kilometers_driven_log' and 'price_log'**"
   ]
  },
  {
   "cell_type": "code",
   "execution_count": 34,
   "metadata": {
    "id": "aB4nfBtqVL3b"
   },
   "outputs": [
    {
     "data": {
      "text/plain": [
       "<AxesSubplot:xlabel='kilometers_driven_log'>"
      ]
     },
     "execution_count": 34,
     "metadata": {},
     "output_type": "execute_result"
    },
    {
     "data": {
      "image/png": "[encoded data removed]",
      "text/plain": [
       "<Figure size 432x288 with 1 Axes>"
      ]
     },
     "metadata": {
      "needs_background": "light"
     },
     "output_type": "display_data"
    }
   ],
   "source": [
    "# Let us plot pair plot for the variables 'kilmetres_driven_log' and 'price_log'\n",
    "data.plot(x ='kilometers_driven_log', y = 'Price_log', style = 'o')"
   ]
  },
  {
   "cell_type": "markdown",
   "metadata": {
    "id": "v107OPbgVL3b"
   },
   "source": [
    "<b>Note:</b> Try to explore different combinations of independent variables and dependent variable. Understand the relationship between all variables."
   ]
  },
  {
   "cell_type": "code",
   "execution_count": 35,
   "metadata": {},
   "outputs": [
    {
     "data": {
      "text/plain": [
       "<AxesSubplot:xlabel='Year'>"
      ]
     },
     "execution_count": 35,
     "metadata": {},
     "output_type": "execute_result"
    },
    {
     "data": {
      "image/png": "[encoded data removed]",
      "text/plain": [
       "<Figure size 432x288 with 1 Axes>"
      ]
     },
     "metadata": {
      "needs_background": "light"
     },
     "output_type": "display_data"
    }
   ],
   "source": [
    "# Let us plot pair plot for the variables 'Year' and 'price_log'\n",
    "data.plot(x ='Year', y = 'Price_log', style = 'o')"
   ]
  },
  {
   "cell_type": "code",
   "execution_count": 36,
   "metadata": {},
   "outputs": [
    {
     "data": {
      "text/plain": [
       "<AxesSubplot:xlabel='Engine'>"
      ]
     },
     "execution_count": 36,
     "metadata": {},
     "output_type": "execute_result"
    },
    {
     "data": {
      "image/png": "[encoded data removed]",
      "text/plain": [
       "<Figure size 432x288 with 1 Axes>"
      ]
     },
     "metadata": {
      "needs_background": "light"
     },
     "output_type": "display_data"
    }
   ],
   "source": [
    "# Let us plot pair plot for the variables 'Engine' and 'price_log'\n",
    "data.plot(x ='Engine', y = 'Price_log', style = 'o')"
   ]
  },
  {
   "cell_type": "code",
   "execution_count": 37,
   "metadata": {},
   "outputs": [
    {
     "data": {
      "text/plain": [
       "<AxesSubplot:xlabel='Power'>"
      ]
     },
     "execution_count": 37,
     "metadata": {},
     "output_type": "execute_result"
    },
    {
     "data": {
      "image/png": "[encoded data removed]",
      "text/plain": [
       "<Figure size 432x288 with 1 Axes>"
      ]
     },
     "metadata": {
      "needs_background": "light"
     },
     "output_type": "display_data"
    }
   ],
   "source": [
    "# Let us plot pair plot for the variables 'Power' and 'price_log'\n",
    "data.plot(x ='Power', y = 'Price_log', style = 'o')"
   ]
  },
  {
   "cell_type": "code",
   "execution_count": 38,
   "metadata": {},
   "outputs": [
    {
     "data": {
      "text/plain": [
       "<AxesSubplot:xlabel='Mileage'>"
      ]
     },
     "execution_count": 38,
     "metadata": {},
     "output_type": "execute_result"
    },
    {
     "data": {
      "image/png": "[encoded data removed]",
      "text/plain": [
       "<Figure size 432x288 with 1 Axes>"
      ]
     },
     "metadata": {
      "needs_background": "light"
     },
     "output_type": "display_data"
    }
   ],
   "source": [
    "# Let us plot pair plot for the variables 'Mileage' and 'price_log'\n",
    "data.plot(x ='Mileage', y = 'Price_log', style = 'o')"
   ]
  },
  {
   "cell_type": "code",
   "execution_count": 39,
   "metadata": {},
   "outputs": [
    {
     "data": {
      "text/plain": [
       "<AxesSubplot:xlabel='Seats'>"
      ]
     },
     "execution_count": 39,
     "metadata": {},
     "output_type": "execute_result"
    },
    {
     "data": {
      "image/png": "[encoded data removed]",
      "text/plain": [
       "<Figure size 432x288 with 1 Axes>"
      ]
     },
     "metadata": {
      "needs_background": "light"
     },
     "output_type": "display_data"
    }
   ],
   "source": [
    "# Let us plot pair plot for the variables 'Seats' and 'price_log'\n",
    "data.plot(x ='Seats', y = 'Price_log', style = 'o')"
   ]
  },
  {
   "cell_type": "markdown",
   "metadata": {
    "id": "JipnN20DVL3b"
   },
   "source": [
    "**Observations and Insights from all plots:** \n",
    "\n",
    "**There seems to be no visible trend between price_log and kilometers_driven. However, a lot of data seems to be scattered between 8 to 12 kilometers.**\n",
    "\n",
    "**We can observe an increasing trend between price_log and year. However, there seem to be more used cars manufactured in 2010 onwards, causing prices to be higher then.**\n",
    "\n",
    "**We can observe an increasing trend between price_log and Engine. However, most of the values lie between 1000 CC and 3000 CC, indicating that majority of the used cars have engines belonging to those values. There seem to be a few outliers as well.**\n",
    "\n",
    "**We can observe an increasing trend between price_log and power. However, this trend follows till 300 bhp, as the majority of the used cars have power up to 300 bhp. There are very few data points after 300 bhp and they do not seem to cause any further increase in the price.**\n",
    "\n",
    "\n",
    "**There seems to be no visible trend between price_log and Mileage. The majority of the used cars seem to have mileage between 9 and 30 kmpl or km/kg. A few data points indicate zero mileage, which seems like an anomaly and must be treated as a missing value.**\n",
    "\n",
    "**There seems to be no visible trend between price_log and Seats. As seats are a discrete variable, we observe a number of data points belonging to the discrete values. The majority of the used cars seem to have seats equal to 4,5,7 and 8. Very few cars seem to have 9 and 10 seats.**"
   ]
  },
  {
   "cell_type": "markdown",
   "metadata": {
    "id": "Z8svlVbWtOSy"
   },
   "source": [
    "### **2. Heat map**\n",
    "Heat map shows a 2D correlation matrix between two numerical features."
   ]
  },
  {
   "cell_type": "code",
   "execution_count": 40,
   "metadata": {
    "id": "obYRQMiytOSy"
   },
   "outputs": [
    {
     "data": {
      "image/png": "[encoded data removed]",
      "text/plain": [
       "<Figure size 864x504 with 2 Axes>"
      ]
     },
     "metadata": {
      "needs_background": "light"
     },
     "output_type": "display_data"
    }
   ],
   "source": [
    "# We can include the log transformation values and drop the original skewed data columns\n",
    "plt.figure(figsize = (12, 7))\n",
    "\n",
    "sns.heatmap(data.drop([\"Price\",\"Kilometers_Driven\"],axis = 1).corr(), annot = True, vmin = -1, vmax = 1)\n",
    "\n",
    "plt.show()"
   ]
  },
  {
   "cell_type": "markdown",
   "metadata": {
    "id": "p8FZxksptOSy"
   },
   "source": [
    "**Observations and Insights:**\n",
    "\n",
    "**Positive Correlation:\n",
    "The variables Power and New_price have the strongest correlation with a value of 0.88. Next, variables Engine and Power had a strong correlation with a value of 0.86. Variables Power and Price_log and New_price and Price_log also had a somewhat strong correlation with a value of 0.78 and 0.77. Variables Year and Seats and Year and Power had the weakest correlation with a value of 0.0079 and 0.013. As these values are very small, they can be regarded as having no correlation at all.**\n",
    "\n",
    "**Negative Correlation:\n",
    "The variables Engine and Mileage have the strongest correlation with a value of -0.59. Next, variables Mileage and Power had a strong correlation with a value of -0.53. Variables New_price and Seats and Year and Engine had the weakest correlation with a value of -0.019 and -0.055. As these values are very small, they can be regarded as having no correlation at all.\n",
    "The variable Mileage is almost negatively correlated with almost all variables except Manufacuring Year of the car.**"
   ]
  },
  {
   "cell_type": "markdown",
   "metadata": {
    "id": "XoilGTkZIrc6"
   },
   "source": [
    "### **3. Box plot**"
   ]
  },
  {
   "cell_type": "code",
   "execution_count": 41,
   "metadata": {
    "id": "LqGH0RvCtOSy"
   },
   "outputs": [],
   "source": [
    "# Let us write a function that will help us create boxplot w.r.t Price for any input categorical variable.\n",
    "# This function takes the categorical column as the input and returns the boxplots for the variable.\n",
    "def boxplot(z):\n",
    "    \n",
    "    plt.figure(figsize = (12, 5)) # Setting size of boxplot\n",
    "    \n",
    "    sns.boxplot(x = z, y = data['Price']) # Defining x and y\n",
    "    \n",
    "    plt.show()\n",
    "    \n",
    "    plt.figure(figsize = (12, 5))\n",
    "    \n",
    "    plt.title('Without Outliers')\n",
    "    \n",
    "    sns.boxplot(x = z, y = data['Price'], showfliers = False) # Turning off the outliers\n",
    "    \n",
    "    plt.show()"
   ]
  },
  {
   "cell_type": "markdown",
   "metadata": {
    "id": "eXvYdYGCVL3b"
   },
   "source": [
    "#### Let us now plot bivariate analysis of target variable with a categorical variable 'Location'"
   ]
  },
  {
   "cell_type": "code",
   "execution_count": 42,
   "metadata": {
    "id": "V9Xj3jNntOSz"
   },
   "outputs": [
    {
     "data": {
      "image/png": "[encoded data removed]",
      "text/plain": [
       "<Figure size 864x360 with 1 Axes>"
      ]
     },
     "metadata": {
      "needs_background": "light"
     },
     "output_type": "display_data"
    },
    {
     "data": {
      "image/png": "[encoded data removed]",
      "text/plain": [
       "<Figure size 864x360 with 1 Axes>"
      ]
     },
     "metadata": {
      "needs_background": "light"
     },
     "output_type": "display_data"
    }
   ],
   "source": [
    "# Box Plot: Price vs Location\n",
    "boxplot(data['Location'])"
   ]
  },
  {
   "cell_type": "markdown",
   "metadata": {
    "id": "hK3wD0GyVL3c"
   },
   "source": [
    "<b>Note: </b> Explore by plotting box-plots for target variable and the other categorical variables like Fuel_Type, transmission, Owner_type."
   ]
  },
  {
   "cell_type": "code",
   "execution_count": 43,
   "metadata": {},
   "outputs": [
    {
     "data": {
      "image/png": "[encoded data removed]",
      "text/plain": [
       "<Figure size 864x360 with 1 Axes>"
      ]
     },
     "metadata": {
      "needs_background": "light"
     },
     "output_type": "display_data"
    },
    {
     "data": {
      "image/png": "[encoded data removed]",
      "text/plain": [
       "<Figure size 864x360 with 1 Axes>"
      ]
     },
     "metadata": {
      "needs_background": "light"
     },
     "output_type": "display_data"
    }
   ],
   "source": [
    "boxplot(data['Fuel_Type'])"
   ]
  },
  {
   "cell_type": "code",
   "execution_count": 44,
   "metadata": {},
   "outputs": [
    {
     "data": {
      "image/png": "[encoded data removed]",
      "text/plain": [
       "<Figure size 864x360 with 1 Axes>"
      ]
     },
     "metadata": {
      "needs_background": "light"
     },
     "output_type": "display_data"
    },
    {
     "data": {
      "image/png": "[encoded data removed]",
      "text/plain": [
       "<Figure size 864x360 with 1 Axes>"
      ]
     },
     "metadata": {
      "needs_background": "light"
     },
     "output_type": "display_data"
    }
   ],
   "source": [
    "boxplot(data['Transmission'])"
   ]
  },
  {
   "cell_type": "code",
   "execution_count": 45,
   "metadata": {},
   "outputs": [
    {
     "data": {
      "image/png": "[encoded data removed]",
      "text/plain": [
       "<Figure size 864x360 with 1 Axes>"
      ]
     },
     "metadata": {
      "needs_background": "light"
     },
     "output_type": "display_data"
    },
    {
     "data": {
      "image/png": "[encoded data removed]",
      "text/plain": [
       "<Figure size 864x360 with 1 Axes>"
      ]
     },
     "metadata": {
      "needs_background": "light"
     },
     "output_type": "display_data"
    }
   ],
   "source": [
    "boxplot(data['Owner_Type'])"
   ]
  },
  {
   "cell_type": "markdown",
   "metadata": {
    "id": "sMoRw1rStOSz"
   },
   "source": [
    "**Observations and Insights for all plots:\n",
    "Using all these boxplots, we can clearly see that presence of too many outliers may cause range of the data to increase considerably. For all the variables and their respective categories, outliers caused the data to expand.**\n"
   ]
  },
  {
   "cell_type": "markdown",
   "metadata": {
    "id": "70E7M7KJtOS1"
   },
   "source": [
    "### **Feature Engineering**"
   ]
  },
  {
   "cell_type": "markdown",
   "metadata": {
    "id": "TD7mqJI6tOS1"
   },
   "source": [
    "**Think about it:** The `Name` column in the current format might not be very useful in our analysis.\n",
    "Since the name contains both the brand name and the model name of the vehicle, the column would have too many unique values to be useful in prediction. Can we extract that information from that column? "
   ]
  },
  {
   "cell_type": "markdown",
   "metadata": {
    "id": "Z1bl_6rztOS1"
   },
   "source": [
    "* **Hint:** With 2041 unique names, car names are not going to be great predictors of the price in our current data. But we can process this column to extract important information for example brand name."
   ]
  },
  {
   "cell_type": "markdown",
   "metadata": {
    "id": "2N4fU3TetOS3"
   },
   "source": [
    "### **Missing value treatment**"
   ]
  },
  {
   "cell_type": "code",
   "execution_count": 46,
   "metadata": {
    "id": "fqZJaxW-tOS4"
   },
   "outputs": [
    {
     "data": {
      "text/plain": [
       "Name                        0\n",
       "Location                    0\n",
       "Year                        0\n",
       "Kilometers_Driven           0\n",
       "Fuel_Type                   0\n",
       "Transmission                0\n",
       "Owner_Type                  0\n",
       "Mileage                     2\n",
       "Engine                     46\n",
       "Power                     175\n",
       "Seats                      53\n",
       "New_price                6246\n",
       "Price                    1234\n",
       "kilometers_driven_log       0\n",
       "Price_log                1234\n",
       "dtype: int64"
      ]
     },
     "execution_count": 46,
     "metadata": {},
     "output_type": "execute_result"
    }
   ],
   "source": [
    "# Now check the missing values of each column. Hint: Use isnull() method\n",
    "data.isnull().sum()"
   ]
  },
  {
   "cell_type": "markdown",
   "metadata": {
    "id": "0g1JA9HltOS4"
   },
   "source": [
    "**Missing values in Seats**"
   ]
  },
  {
   "cell_type": "code",
   "execution_count": 47,
   "metadata": {
    "id": "0ygbJcoOtOS4",
    "scrolled": true
   },
   "outputs": [
    {
     "data": {
      "text/plain": [
       "53"
      ]
     },
     "execution_count": 47,
     "metadata": {},
     "output_type": "execute_result"
    }
   ],
   "source": [
    "# Checking missing values in the column 'Seats'\n",
    "data[\"Seats\"].isnull().sum()"
   ]
  },
  {
   "cell_type": "markdown",
   "metadata": {
    "id": "Tg0mIMdxVL3d"
   },
   "source": [
    "**Think about it:** Can we somehow use the extracted information from 'Name' column to impute missing values?"
   ]
  },
  {
   "cell_type": "markdown",
   "metadata": {
    "id": "wErCOPkStOS4",
    "outputId": "0b6d3b63-47a9-4aba-b053-024e186d1d7e"
   },
   "source": [
    "**Hint:** Impute these missing values one by one, by taking median number of seats for the particular car, using the Brand and Model name.\n"
   ]
  },
  {
   "cell_type": "code",
   "execution_count": 48,
   "metadata": {
    "id": "mIoatRh9tOS4"
   },
   "outputs": [
    {
     "name": "stdout",
     "output_type": "stream",
     "text": [
      "Name\n",
      "Tata Sumo DX                             10.0\n",
      "Toyota Qualis RS E2                      10.0\n",
      "Toyota Qualis FS B3                      10.0\n",
      "Toyota Qualis FS B2                      10.0\n",
      "Chevrolet Tavera LS B3 10 Seats BSIII    10.0\n",
      "                                         ... \n",
      "Maruti Swift 1.3 VXi                      NaN\n",
      "Maruti Swift 1.3 ZXI                      NaN\n",
      "Maruti Wagon R Vx                         NaN\n",
      "Skoda Laura 1.8 TSI Ambition              NaN\n",
      "Toyota Etios Liva Diesel TRD Sportivo     NaN\n",
      "Name: Seats, Length: 2041, dtype: float64\n"
     ]
    }
   ],
   "source": [
    "# Impute missing values in Seats,you can use fillna method in pandas\n",
    "print(data.groupby(['Name'])['Seats'].median().sort_values(ascending=False))\n",
    "data['Seats'] = data[\"Seats\"].fillna(data.groupby(['Name'])['Seats'].median())"
   ]
  },
  {
   "cell_type": "code",
   "execution_count": 49,
   "metadata": {
    "id": "YS4QIbWPtOS5"
   },
   "outputs": [
    {
     "data": {
      "text/plain": [
       "53"
      ]
     },
     "execution_count": 49,
     "metadata": {},
     "output_type": "execute_result"
    }
   ],
   "source": [
    "# Now check total number of missing values of the seat column to verify if they are imputed or not. Hint: Use isnull() method\n",
    "data[\"Seats\"].isnull().sum()"
   ]
  },
  {
   "cell_type": "markdown",
   "metadata": {
    "id": "wjaNSFLRtOS5"
   },
   "source": [
    "**Missing values for Mileage**"
   ]
  },
  {
   "cell_type": "code",
   "execution_count": 50,
   "metadata": {
    "id": "DRXO50mXVL3d"
   },
   "outputs": [
    {
     "data": {
      "text/plain": [
       "Name                        0\n",
       "Location                    0\n",
       "Year                        0\n",
       "Kilometers_Driven           0\n",
       "Fuel_Type                   0\n",
       "Transmission                0\n",
       "Owner_Type                  0\n",
       "Mileage                     2\n",
       "Engine                     46\n",
       "Power                     175\n",
       "Seats                      53\n",
       "New_price                6246\n",
       "Price                    1234\n",
       "kilometers_driven_log       0\n",
       "Price_log                1234\n",
       "dtype: int64"
      ]
     },
     "execution_count": 50,
     "metadata": {},
     "output_type": "execute_result"
    }
   ],
   "source": [
    "# Now check missing values of each column. Hint: Use isnull() method\n",
    "data.isnull().sum()"
   ]
  },
  {
   "cell_type": "code",
   "execution_count": 51,
   "metadata": {
    "id": "Etr9nkEKtOS6"
   },
   "outputs": [
    {
     "name": "stdout",
     "output_type": "stream",
     "text": [
      "7252\n"
     ]
    }
   ],
   "source": [
    "# Impute missing Mileage. For example, use can use median or any other methods.\n",
    "print(((data[\"Mileage\"]== \"NaN\")== False).count())\n",
    "data['Mileage'] = data[\"Mileage\"].fillna(data[\"Mileage\"].median())"
   ]
  },
  {
   "cell_type": "code",
   "execution_count": 52,
   "metadata": {
    "id": "RWH5k6nAtOS6"
   },
   "outputs": [
    {
     "data": {
      "text/plain": [
       "0"
      ]
     },
     "execution_count": 52,
     "metadata": {},
     "output_type": "execute_result"
    }
   ],
   "source": [
    "# Now check total number of missing values of the seat column to verify if they are imputed or not. Hint: Use isnull() method\n",
    "data[\"Mileage\"].isnull().sum()"
   ]
  },
  {
   "cell_type": "markdown",
   "metadata": {
    "id": "SSRXU5m3tOS6"
   },
   "source": [
    "**Missing values for Engine**"
   ]
  },
  {
   "cell_type": "code",
   "execution_count": 53,
   "metadata": {
    "id": "wy9Gqxg-tOS6"
   },
   "outputs": [],
   "source": [
    "data['Engine'] = data[\"Engine\"].fillna(data[\"Engine\"].median())"
   ]
  },
  {
   "cell_type": "code",
   "execution_count": 54,
   "metadata": {},
   "outputs": [
    {
     "data": {
      "text/plain": [
       "0"
      ]
     },
     "execution_count": 54,
     "metadata": {},
     "output_type": "execute_result"
    }
   ],
   "source": [
    "data[\"Engine\"].isnull().sum()"
   ]
  },
  {
   "cell_type": "markdown",
   "metadata": {
    "id": "Py_n-7fLtOS6"
   },
   "source": [
    "**Missing values for Power**"
   ]
  },
  {
   "cell_type": "code",
   "execution_count": 55,
   "metadata": {
    "id": "2WsE1-VftOS7"
   },
   "outputs": [],
   "source": [
    "data['Power'] = data[\"Power\"].fillna(data[\"Power\"].median())"
   ]
  },
  {
   "cell_type": "code",
   "execution_count": 56,
   "metadata": {},
   "outputs": [
    {
     "data": {
      "text/plain": [
       "0"
      ]
     },
     "execution_count": 56,
     "metadata": {},
     "output_type": "execute_result"
    }
   ],
   "source": [
    "data[\"Power\"].isnull().sum()"
   ]
  },
  {
   "cell_type": "markdown",
   "metadata": {
    "id": "D69-3ZiCtOS7"
   },
   "source": [
    "**Missing values for New_price**"
   ]
  },
  {
   "cell_type": "code",
   "execution_count": 57,
   "metadata": {
    "id": "53xzbaWzVL3e"
   },
   "outputs": [],
   "source": [
    "data['New_price'] = data[\"New_price\"].fillna(data[\"New_price\"].median())"
   ]
  },
  {
   "cell_type": "code",
   "execution_count": 59,
   "metadata": {},
   "outputs": [
    {
     "data": {
      "text/plain": [
       "1234"
      ]
     },
     "execution_count": 59,
     "metadata": {},
     "output_type": "execute_result"
    }
   ],
   "source": [
    "data[\"New_price\"].isnull().sum()"
   ]
  },
  {
   "cell_type": "markdown",
   "metadata": {
    "id": "0Rj8acAJtOS7"
   },
   "source": [
    "**Observations for missing values after imputing: Finally, we have replaced omitted all the missing values with a certain value. Now, the data is ready to be divided into test and train data sets. We can then create a regression model using train data set, and measure performance by applying the model to the test dataset. We will do this in a separate notebook**"
   ]
  },
  {
   "cell_type": "markdown",
   "metadata": {},
   "source": [
    "### **Saving the Data**"
   ]
  },
  {
   "cell_type": "code",
   "execution_count": null,
   "metadata": {},
   "outputs": [],
   "source": [
    "# Assume df_cleaned is the pre-processed data frame in your code, then\n",
    "data.to_csv(\"cars_data_updated.csv\", index = False)"
   ]
  },
  {
   "cell_type": "markdown",
   "metadata": {},
   "source": [
    "### **Let us load the data**"
   ]
  },
  {
   "cell_type": "markdown",
   "metadata": {},
   "source": [
    "**Note:** Please load the data frame that was saved here before separating the data, and then proceed to the next step in Milestone 2."
   ]
  },
  {
   "cell_type": "markdown",
   "metadata": {},
   "source": [
    "### **Load the data**"
   ]
  },
  {
   "cell_type": "code",
   "execution_count": 2,
   "metadata": {},
   "outputs": [
    {
     "name": "stdout",
     "output_type": "stream",
     "text": [
      "1234\n"
     ]
    }
   ],
   "source": [
    "import pandas as pd\n",
    "import numpy as np\n",
    "\n",
    "# To ignore warnings\n",
    "import warnings\n",
    "warnings.filterwarnings('ignore')\n",
    "\n",
    "from statsmodels.graphics.gofplots import ProbPlot\n",
    "\n",
    "# Import libraries for building linear regression model\n",
    "from statsmodels.formula.api import ols\n",
    "\n",
    "import statsmodels.api as sm\n",
    "\n",
    "from sklearn.linear_model import LinearRegression\n",
    "\n",
    "# Import library for preparing data\n",
    "from sklearn.model_selection import train_test_split\n",
    "\n",
    "# Import library for data preprocessing\n",
    "from sklearn.preprocessing import MinMaxScaler\n",
    "import sklearn.metrics as metrics\n",
    "\n",
    "\n",
    "cars_data = pd.read_csv(\"cars_data_updated.csv\")\n",
    "print(cars_data[\"Price\"].isnull().sum())"
   ]
  },
  {
   "cell_type": "code",
   "execution_count": 3,
   "metadata": {},
   "outputs": [],
   "source": [
    "import pandas as pd\n",
    "import numpy as np\n",
    "\n",
    "# To ignore warnings\n",
    "import warnings\n",
    "warnings.filterwarnings('ignore')\n",
    "\n",
    "from statsmodels.graphics.gofplots import ProbPlot\n",
    "\n",
    "# Import libraries for building linear regression model\n",
    "from statsmodels.formula.api import ols\n",
    "\n",
    "import statsmodels.api as sm\n",
    "\n",
    "from sklearn.linear_model import LinearRegression\n",
    "\n",
    "# Import library for preparing data\n",
    "from sklearn.model_selection import train_test_split\n",
    "\n",
    "# Import library for data preprocessing\n",
    "from sklearn.preprocessing import MinMaxScaler\n",
    "import sklearn.metrics as metrics\n",
    "\n",
    "\n",
    "cars_data = pd.read_csv(\"cars_data_updated.csv\")\n",
    "cars_data.head()\n",
    "cars_data['Price'] = cars_data[\"Price\"].fillna(cars_data[\"Price\"].median())\n",
    "cars_data['Price_log'] = cars_data[\"Price_log\"].fillna(cars_data[\"Price_log\"].median())"
   ]
  },
  {
   "cell_type": "markdown",
   "metadata": {
    "id": "0L-oAMItxLP-"
   },
   "source": [
    "### **Split the Data**"
   ]
  },
  {
   "cell_type": "markdown",
   "metadata": {
    "id": "Aat-Ne-ZVL3e"
   },
   "source": [
    "<li>Step1: Seperating the indepdent variables (X) and the dependent variable (y). \n",
    "<li>Step2: Encode the categorical variables in X using pd.dummies.\n",
    "<li>Step3: Split the data into train and test using train_test_split."
   ]
  },
  {
   "cell_type": "markdown",
   "metadata": {
    "id": "Cwh_IhfqVL3f"
   },
   "source": [
    "**Think about it:** Why we should drop 'Name','Price','price_log','Kilometers_Driven' from X before splitting?"
   ]
  },
  {
   "cell_type": "code",
   "execution_count": 4,
   "metadata": {
    "id": "NTly1jIxtOS8"
   },
   "outputs": [],
   "source": [
    "# Step-1\n",
    "X = cars_data.drop(['Name','Price','Price_log','Kilometers_Driven'], axis = 1)\n",
    "\n",
    "y = cars_data[[\"Price_log\", \"Price\"]]"
   ]
  },
  {
   "cell_type": "code",
   "execution_count": 5,
   "metadata": {
    "id": "vzCLGMzbVL3f"
   },
   "outputs": [
    {
     "data": {
      "text/html": [
       "<div>\n",
       "<style scoped>\n",
       "    .dataframe tbody tr th:only-of-type {\n",
       "        vertical-align: middle;\n",
       "    }\n",
       "\n",
       "    .dataframe tbody tr th {\n",
       "        vertical-align: top;\n",
       "    }\n",
       "\n",
       "    .dataframe thead th {\n",
       "        text-align: right;\n",
       "    }\n",
       "</style>\n",
       "<table border=\"1\" class=\"dataframe\">\n",
       "  <thead>\n",
       "    <tr style=\"text-align: right;\">\n",
       "      <th></th>\n",
       "      <th>Year</th>\n",
       "      <th>Mileage</th>\n",
       "      <th>Engine</th>\n",
       "      <th>Power</th>\n",
       "      <th>Seats</th>\n",
       "      <th>New_price</th>\n",
       "      <th>kilometers_driven_log</th>\n",
       "      <th>Location_Bangalore</th>\n",
       "      <th>Location_Chennai</th>\n",
       "      <th>Location_Coimbatore</th>\n",
       "      <th>...</th>\n",
       "      <th>Location_Mumbai</th>\n",
       "      <th>Location_Pune</th>\n",
       "      <th>Fuel_Type_Diesel</th>\n",
       "      <th>Fuel_Type_Electric</th>\n",
       "      <th>Fuel_Type_LPG</th>\n",
       "      <th>Fuel_Type_Petrol</th>\n",
       "      <th>Transmission_Manual</th>\n",
       "      <th>Owner_Type_Fourth &amp; Above</th>\n",
       "      <th>Owner_Type_Second</th>\n",
       "      <th>Owner_Type_Third</th>\n",
       "    </tr>\n",
       "  </thead>\n",
       "  <tbody>\n",
       "    <tr>\n",
       "      <th>0</th>\n",
       "      <td>2010</td>\n",
       "      <td>26.60</td>\n",
       "      <td>998.0</td>\n",
       "      <td>58.16</td>\n",
       "      <td>5.0</td>\n",
       "      <td>11.57</td>\n",
       "      <td>11.184421</td>\n",
       "      <td>0</td>\n",
       "      <td>0</td>\n",
       "      <td>0</td>\n",
       "      <td>...</td>\n",
       "      <td>1</td>\n",
       "      <td>0</td>\n",
       "      <td>0</td>\n",
       "      <td>0</td>\n",
       "      <td>0</td>\n",
       "      <td>0</td>\n",
       "      <td>1</td>\n",
       "      <td>0</td>\n",
       "      <td>0</td>\n",
       "      <td>0</td>\n",
       "    </tr>\n",
       "    <tr>\n",
       "      <th>1</th>\n",
       "      <td>2015</td>\n",
       "      <td>19.67</td>\n",
       "      <td>1582.0</td>\n",
       "      <td>126.20</td>\n",
       "      <td>5.0</td>\n",
       "      <td>11.57</td>\n",
       "      <td>10.621327</td>\n",
       "      <td>0</td>\n",
       "      <td>0</td>\n",
       "      <td>0</td>\n",
       "      <td>...</td>\n",
       "      <td>0</td>\n",
       "      <td>1</td>\n",
       "      <td>1</td>\n",
       "      <td>0</td>\n",
       "      <td>0</td>\n",
       "      <td>0</td>\n",
       "      <td>1</td>\n",
       "      <td>0</td>\n",
       "      <td>0</td>\n",
       "      <td>0</td>\n",
       "    </tr>\n",
       "    <tr>\n",
       "      <th>2</th>\n",
       "      <td>2011</td>\n",
       "      <td>18.20</td>\n",
       "      <td>1199.0</td>\n",
       "      <td>88.70</td>\n",
       "      <td>5.0</td>\n",
       "      <td>8.61</td>\n",
       "      <td>10.736397</td>\n",
       "      <td>0</td>\n",
       "      <td>1</td>\n",
       "      <td>0</td>\n",
       "      <td>...</td>\n",
       "      <td>0</td>\n",
       "      <td>0</td>\n",
       "      <td>0</td>\n",
       "      <td>0</td>\n",
       "      <td>0</td>\n",
       "      <td>1</td>\n",
       "      <td>1</td>\n",
       "      <td>0</td>\n",
       "      <td>0</td>\n",
       "      <td>0</td>\n",
       "    </tr>\n",
       "    <tr>\n",
       "      <th>3</th>\n",
       "      <td>2012</td>\n",
       "      <td>20.77</td>\n",
       "      <td>1248.0</td>\n",
       "      <td>88.76</td>\n",
       "      <td>7.0</td>\n",
       "      <td>11.57</td>\n",
       "      <td>11.373663</td>\n",
       "      <td>0</td>\n",
       "      <td>1</td>\n",
       "      <td>0</td>\n",
       "      <td>...</td>\n",
       "      <td>0</td>\n",
       "      <td>0</td>\n",
       "      <td>1</td>\n",
       "      <td>0</td>\n",
       "      <td>0</td>\n",
       "      <td>0</td>\n",
       "      <td>1</td>\n",
       "      <td>0</td>\n",
       "      <td>0</td>\n",
       "      <td>0</td>\n",
       "    </tr>\n",
       "    <tr>\n",
       "      <th>4</th>\n",
       "      <td>2013</td>\n",
       "      <td>15.20</td>\n",
       "      <td>1968.0</td>\n",
       "      <td>140.80</td>\n",
       "      <td>5.0</td>\n",
       "      <td>11.57</td>\n",
       "      <td>10.613246</td>\n",
       "      <td>0</td>\n",
       "      <td>0</td>\n",
       "      <td>1</td>\n",
       "      <td>...</td>\n",
       "      <td>0</td>\n",
       "      <td>0</td>\n",
       "      <td>1</td>\n",
       "      <td>0</td>\n",
       "      <td>0</td>\n",
       "      <td>0</td>\n",
       "      <td>0</td>\n",
       "      <td>0</td>\n",
       "      <td>1</td>\n",
       "      <td>0</td>\n",
       "    </tr>\n",
       "    <tr>\n",
       "      <th>...</th>\n",
       "      <td>...</td>\n",
       "      <td>...</td>\n",
       "      <td>...</td>\n",
       "      <td>...</td>\n",
       "      <td>...</td>\n",
       "      <td>...</td>\n",
       "      <td>...</td>\n",
       "      <td>...</td>\n",
       "      <td>...</td>\n",
       "      <td>...</td>\n",
       "      <td>...</td>\n",
       "      <td>...</td>\n",
       "      <td>...</td>\n",
       "      <td>...</td>\n",
       "      <td>...</td>\n",
       "      <td>...</td>\n",
       "      <td>...</td>\n",
       "      <td>...</td>\n",
       "      <td>...</td>\n",
       "      <td>...</td>\n",
       "      <td>...</td>\n",
       "    </tr>\n",
       "    <tr>\n",
       "      <th>7247</th>\n",
       "      <td>2011</td>\n",
       "      <td>20.54</td>\n",
       "      <td>1598.0</td>\n",
       "      <td>103.60</td>\n",
       "      <td>5.0</td>\n",
       "      <td>11.57</td>\n",
       "      <td>11.400999</td>\n",
       "      <td>0</td>\n",
       "      <td>0</td>\n",
       "      <td>0</td>\n",
       "      <td>...</td>\n",
       "      <td>0</td>\n",
       "      <td>0</td>\n",
       "      <td>1</td>\n",
       "      <td>0</td>\n",
       "      <td>0</td>\n",
       "      <td>0</td>\n",
       "      <td>1</td>\n",
       "      <td>0</td>\n",
       "      <td>0</td>\n",
       "      <td>0</td>\n",
       "    </tr>\n",
       "    <tr>\n",
       "      <th>7248</th>\n",
       "      <td>2015</td>\n",
       "      <td>17.21</td>\n",
       "      <td>1197.0</td>\n",
       "      <td>103.60</td>\n",
       "      <td>5.0</td>\n",
       "      <td>11.57</td>\n",
       "      <td>10.985293</td>\n",
       "      <td>0</td>\n",
       "      <td>0</td>\n",
       "      <td>0</td>\n",
       "      <td>...</td>\n",
       "      <td>1</td>\n",
       "      <td>0</td>\n",
       "      <td>0</td>\n",
       "      <td>0</td>\n",
       "      <td>0</td>\n",
       "      <td>1</td>\n",
       "      <td>0</td>\n",
       "      <td>0</td>\n",
       "      <td>0</td>\n",
       "      <td>0</td>\n",
       "    </tr>\n",
       "    <tr>\n",
       "      <th>7249</th>\n",
       "      <td>2012</td>\n",
       "      <td>23.08</td>\n",
       "      <td>1461.0</td>\n",
       "      <td>63.10</td>\n",
       "      <td>5.0</td>\n",
       "      <td>11.57</td>\n",
       "      <td>10.239960</td>\n",
       "      <td>0</td>\n",
       "      <td>0</td>\n",
       "      <td>0</td>\n",
       "      <td>...</td>\n",
       "      <td>0</td>\n",
       "      <td>0</td>\n",
       "      <td>1</td>\n",
       "      <td>0</td>\n",
       "      <td>0</td>\n",
       "      <td>0</td>\n",
       "      <td>1</td>\n",
       "      <td>0</td>\n",
       "      <td>0</td>\n",
       "      <td>0</td>\n",
       "    </tr>\n",
       "    <tr>\n",
       "      <th>7250</th>\n",
       "      <td>2013</td>\n",
       "      <td>17.20</td>\n",
       "      <td>1197.0</td>\n",
       "      <td>103.60</td>\n",
       "      <td>5.0</td>\n",
       "      <td>11.57</td>\n",
       "      <td>10.864025</td>\n",
       "      <td>0</td>\n",
       "      <td>0</td>\n",
       "      <td>0</td>\n",
       "      <td>...</td>\n",
       "      <td>0</td>\n",
       "      <td>1</td>\n",
       "      <td>0</td>\n",
       "      <td>0</td>\n",
       "      <td>0</td>\n",
       "      <td>1</td>\n",
       "      <td>0</td>\n",
       "      <td>0</td>\n",
       "      <td>0</td>\n",
       "      <td>1</td>\n",
       "    </tr>\n",
       "    <tr>\n",
       "      <th>7251</th>\n",
       "      <td>2014</td>\n",
       "      <td>10.00</td>\n",
       "      <td>2148.0</td>\n",
       "      <td>170.00</td>\n",
       "      <td>5.0</td>\n",
       "      <td>11.57</td>\n",
       "      <td>11.190555</td>\n",
       "      <td>0</td>\n",
       "      <td>0</td>\n",
       "      <td>0</td>\n",
       "      <td>...</td>\n",
       "      <td>0</td>\n",
       "      <td>0</td>\n",
       "      <td>1</td>\n",
       "      <td>0</td>\n",
       "      <td>0</td>\n",
       "      <td>0</td>\n",
       "      <td>0</td>\n",
       "      <td>0</td>\n",
       "      <td>0</td>\n",
       "      <td>0</td>\n",
       "    </tr>\n",
       "  </tbody>\n",
       "</table>\n",
       "<p>7252 rows � 25 columns</p>\n",
       "</div>"
      ],
      "text/plain": [
       "      Year  Mileage  Engine   Power  Seats  New_price  kilometers_driven_log  \\\n",
       "0     2010    26.60   998.0   58.16    5.0      11.57              11.184421   \n",
       "1     2015    19.67  1582.0  126.20    5.0      11.57              10.621327   \n",
       "2     2011    18.20  1199.0   88.70    5.0       8.61              10.736397   \n",
       "3     2012    20.77  1248.0   88.76    7.0      11.57              11.373663   \n",
       "4     2013    15.20  1968.0  140.80    5.0      11.57              10.613246   \n",
       "...    ...      ...     ...     ...    ...        ...                    ...   \n",
       "7247  2011    20.54  1598.0  103.60    5.0      11.57              11.400999   \n",
       "7248  2015    17.21  1197.0  103.60    5.0      11.57              10.985293   \n",
       "7249  2012    23.08  1461.0   63.10    5.0      11.57              10.239960   \n",
       "7250  2013    17.20  1197.0  103.60    5.0      11.57              10.864025   \n",
       "7251  2014    10.00  2148.0  170.00    5.0      11.57              11.190555   \n",
       "\n",
       "      Location_Bangalore  Location_Chennai  Location_Coimbatore  ...  \\\n",
       "0                      0                 0                    0  ...   \n",
       "1                      0                 0                    0  ...   \n",
       "2                      0                 1                    0  ...   \n",
       "3                      0                 1                    0  ...   \n",
       "4                      0                 0                    1  ...   \n",
       "...                  ...               ...                  ...  ...   \n",
       "7247                   0                 0                    0  ...   \n",
       "7248                   0                 0                    0  ...   \n",
       "7249                   0                 0                    0  ...   \n",
       "7250                   0                 0                    0  ...   \n",
       "7251                   0                 0                    0  ...   \n",
       "\n",
       "      Location_Mumbai  Location_Pune  Fuel_Type_Diesel  Fuel_Type_Electric  \\\n",
       "0                   1              0                 0                   0   \n",
       "1                   0              1                 1                   0   \n",
       "2                   0              0                 0                   0   \n",
       "3                   0              0                 1                   0   \n",
       "4                   0              0                 1                   0   \n",
       "...               ...            ...               ...                 ...   \n",
       "7247                0              0                 1                   0   \n",
       "7248                1              0                 0                   0   \n",
       "7249                0              0                 1                   0   \n",
       "7250                0              1                 0                   0   \n",
       "7251                0              0                 1                   0   \n",
       "\n",
       "      Fuel_Type_LPG  Fuel_Type_Petrol  Transmission_Manual  \\\n",
       "0                 0                 0                    1   \n",
       "1                 0                 0                    1   \n",
       "2                 0                 1                    1   \n",
       "3                 0                 0                    1   \n",
       "4                 0                 0                    0   \n",
       "...             ...               ...                  ...   \n",
       "7247              0                 0                    1   \n",
       "7248              0                 1                    0   \n",
       "7249              0                 0                    1   \n",
       "7250              0                 1                    0   \n",
       "7251              0                 0                    0   \n",
       "\n",
       "      Owner_Type_Fourth & Above  Owner_Type_Second  Owner_Type_Third  \n",
       "0                             0                  0                 0  \n",
       "1                             0                  0                 0  \n",
       "2                             0                  0                 0  \n",
       "3                             0                  0                 0  \n",
       "4                             0                  1                 0  \n",
       "...                         ...                ...               ...  \n",
       "7247                          0                  0                 0  \n",
       "7248                          0                  0                 0  \n",
       "7249                          0                  0                 0  \n",
       "7250                          0                  0                 1  \n",
       "7251                          0                  0                 0  \n",
       "\n",
       "[7252 rows x 25 columns]"
      ]
     },
     "execution_count": 5,
     "metadata": {},
     "output_type": "execute_result"
    }
   ],
   "source": [
    "# Step-2 Use pd.get_dummies(drop_first = True)\n",
    "X = pd.get_dummies(X, drop_first = True)\n",
    "X"
   ]
  },
  {
   "cell_type": "code",
   "execution_count": 6,
   "metadata": {
    "id": "JqVHLEHVRRKK"
   },
   "outputs": [
    {
     "name": "stdout",
     "output_type": "stream",
     "text": [
      "(5076, 25) (2176, 25)\n"
     ]
    }
   ],
   "source": [
    "# Step-3 Splitting data into training and test set:\n",
    "X_train, X_test, y_train, y_test = train_test_split(X, y, test_size = 0.3, random_state = 1)\n",
    "\n",
    "print(X_train.shape, X_test.shape)"
   ]
  },
  {
   "cell_type": "code",
   "execution_count": 7,
   "metadata": {
    "id": "glAH2vMFtOS8"
   },
   "outputs": [],
   "source": [
    "# Let us write a function for calculating r2_score and RMSE on train and test data\n",
    "# This function takes model as an input on which we have trained particular algorithm\n",
    "# The categorical column as the input and returns the boxplots and histograms for the variable\n",
    "\n",
    "def get_model_score(model, flag = True):\n",
    "    '''\n",
    "    model : regressor to predict values of X\n",
    "\n",
    "    '''\n",
    "    # Defining an empty list to store train and test results\n",
    "    score_list = [] \n",
    "    \n",
    "    pred_train = model.predict(X_train)\n",
    "    \n",
    "    pred_train_ = np.exp(pred_train)\n",
    "    \n",
    "    pred_test = model.predict(X_test)\n",
    "    \n",
    "    pred_test_ = np.exp(pred_test)\n",
    "    \n",
    "    train_r2 = metrics.r2_score(y_train['Price'], pred_train_)\n",
    "    \n",
    "    test_r2 = metrics.r2_score(y_test['Price'], pred_test_)\n",
    "    \n",
    "    train_rmse = metrics.mean_squared_error(y_train['Price'], pred_train_, squared = False)\n",
    "    \n",
    "    test_rmse = metrics.mean_squared_error(y_test['Price'], pred_test_, squared = False)\n",
    "    \n",
    "    # Adding all scores in the list\n",
    "    score_list.extend((train_r2, test_r2, train_rmse, test_rmse))\n",
    "    \n",
    "    # If the flag is set to True then only the following print statements will be dispayed, the default value is True\n",
    "    if flag == True: \n",
    "        \n",
    "        print(\"R-sqaure on training set : \", metrics.r2_score(y_train['Price'], pred_train_))\n",
    "        \n",
    "        print(\"R-square on test set : \", metrics.r2_score(y_test['Price'], pred_test_))\n",
    "        \n",
    "        print(\"RMSE on training set : \", np.sqrt(metrics.mean_squared_error(y_train['Price'], pred_train_)))\n",
    "        \n",
    "        print(\"RMSE on test set : \", np.sqrt(metrics.mean_squared_error(y_test['Price'], pred_test_)))\n",
    "    \n",
    "    # Returning the list with train and test scores\n",
    "    return score_list"
   ]
  },
  {
   "cell_type": "markdown",
   "metadata": {
    "id": "o8qcI692VL3g"
   },
   "source": [
    "<hr>"
   ]
  },
  {
   "cell_type": "markdown",
   "metadata": {
    "id": "gaj2riZFVL3g"
   },
   "source": [
    "For Regression Problems, some of the algorithms used are :<br>\n",
    "\n",
    "**1) Linear Regression** <br>\n",
    "**2) Ridge / Lasso Regression** <br>\n",
    "**3) Decision Trees** <br>\n",
    "**4) Random Forest** <br>"
   ]
  },
  {
   "cell_type": "markdown",
   "metadata": {
    "id": "xwL33RaztOS9"
   },
   "source": [
    "### **Fitting a linear model**"
   ]
  },
  {
   "cell_type": "markdown",
   "metadata": {
    "id": "kXj-84YCVL3h"
   },
   "source": [
    "Linear Regression can be implemented using: <br>\n",
    "\n",
    "**1) Sklearn:** https://scikit-learn.org/stable/modules/generated/sklearn.linear_model.LinearRegression.html <br>\n",
    "**2) Statsmodels:** https://www.statsmodels.org/stable/regression.html"
   ]
  },
  {
   "cell_type": "code",
   "execution_count": 8,
   "metadata": {
    "id": "tABeKbbNVL3h"
   },
   "outputs": [],
   "source": [
    "# Import Linear Regression from sklearn\n",
    "from sklearn.linear_model import LinearRegression"
   ]
  },
  {
   "cell_type": "code",
   "execution_count": 9,
   "metadata": {
    "id": "FT3gcKDetOS9"
   },
   "outputs": [],
   "source": [
    "# Create a linear regression model\n",
    "lr = LinearRegression()"
   ]
  },
  {
   "cell_type": "code",
   "execution_count": 10,
   "metadata": {
    "id": "rMmX-FJatOS9"
   },
   "outputs": [
    {
     "data": {
      "text/plain": [
       "LinearRegression()"
      ]
     },
     "execution_count": 10,
     "metadata": {},
     "output_type": "execute_result"
    }
   ],
   "source": [
    "# Fit linear regression model\n",
    "lr.fit(X_train, y_train['Price_log']) "
   ]
  },
  {
   "cell_type": "code",
   "execution_count": 11,
   "metadata": {
    "id": "ABshmMPAtOS9"
   },
   "outputs": [
    {
     "name": "stdout",
     "output_type": "stream",
     "text": [
      "R-sqaure on training set :  0.577527371521714\n",
      "R-square on test set :  0.6987319908799025\n",
      "RMSE on training set :  6.663385166697938\n",
      "RMSE on test set :  5.664233908119423\n"
     ]
    }
   ],
   "source": [
    "# Get score of the model\n",
    "LR_score = get_model_score(lr)"
   ]
  },
  {
   "cell_type": "code",
   "execution_count": 87,
   "metadata": {},
   "outputs": [
    {
     "data": {
      "text/plain": [
       "<AxesSubplot:xlabel='Price_log'>"
      ]
     },
     "execution_count": 87,
     "metadata": {},
     "output_type": "execute_result"
    },
    {
     "data": {
      "image/png": "[encoded data removed]",
      "text/plain": [
       "<Figure size 432x288 with 1 Axes>"
      ]
     },
     "metadata": {
      "needs_background": "light"
     },
     "output_type": "display_data"
    }
   ],
   "source": [
    "#Predicting values of y using Linear Regression model\n",
    "predictions=lr.predict(X_test)\n",
    "import matplotlib.pyplot as plt\n",
    "y_base = cars_data[\"Price_log\"].mean()\n",
    "#Plotting base line model on the mean of target variable i.e. Price_log\n",
    "plt.axhline(y=y_base, color='r', linestyle='-')\n",
    "#Plotting scatter plot to observe the correlation between predicted values and the test dataset value\n",
    "import seaborn as sns\n",
    "\n",
    "plt.scatter(y_test[\"Price_log\"],predictions)\n",
    "sns.regplot(y_test[\"Price_log\"],predictions)"
   ]
  },
  {
   "cell_type": "markdown",
   "metadata": {
    "id": "RNN1nlPqIrdC"
   },
   "source": [
    "**Important variables of Linear Regression**"
   ]
  },
  {
   "cell_type": "markdown",
   "metadata": {
    "id": "NyKxdVyhVL3i"
   },
   "source": [
    "Building a model using statsmodels."
   ]
  },
  {
   "cell_type": "code",
   "execution_count": 11,
   "metadata": {
    "id": "vHyqhuVMIrdC",
    "scrolled": true
   },
   "outputs": [
    {
     "name": "stdout",
     "output_type": "stream",
     "text": [
      "                            OLS Regression Results                            \n",
      "==============================================================================\n",
      "Dep. Variable:              Price_log   R-squared:                       0.731\n",
      "Model:                            OLS   Adj. R-squared:                  0.729\n",
      "Method:                 Least Squares   F-statistic:                     571.1\n",
      "Date:                Wed, 14 Dec 2022   Prob (F-statistic):               0.00\n",
      "Time:                        23:47:14   Log-Likelihood:                -2705.6\n",
      "No. Observations:                5076   AIC:                             5461.\n",
      "Df Residuals:                    5051   BIC:                             5624.\n",
      "Df Model:                          24                                         \n",
      "Covariance Type:            nonrobust                                         \n",
      "=============================================================================================\n",
      "                                coef    std err          t      P>|t|      [0.025      0.975]\n",
      "---------------------------------------------------------------------------------------------\n",
      "const                      -195.6515      5.281    -37.050      0.000    -206.004    -185.299\n",
      "Year                          0.0981      0.003     37.684      0.000       0.093       0.103\n",
      "Mileage                      -0.0120      0.002     -5.812      0.000      -0.016      -0.008\n",
      "Engine                        0.0002   2.62e-05      6.898      0.000       0.000       0.000\n",
      "Power                         0.0058      0.000     21.130      0.000       0.005       0.006\n",
      "Seats                         0.0125      0.008      1.519      0.129      -0.004       0.029\n",
      "New_price                    -0.0007      0.001     -1.211      0.226      -0.002       0.000\n",
      "kilometers_driven_log        -0.0633      0.011     -5.888      0.000      -0.084      -0.042\n",
      "Location_Bangalore            0.0970      0.038      2.529      0.011       0.022       0.172\n",
      "Location_Chennai              0.0099      0.036      0.274      0.784      -0.061       0.081\n",
      "Location_Coimbatore           0.0607      0.035      1.727      0.084      -0.008       0.130\n",
      "Location_Delhi               -0.0246      0.035     -0.694      0.488      -0.094       0.045\n",
      "Location_Hyderabad            0.0845      0.034      2.479      0.013       0.018       0.151\n",
      "Location_Jaipur              -0.0549      0.037     -1.470      0.142      -0.128       0.018\n",
      "Location_Kochi               -0.0358      0.035     -1.021      0.308      -0.105       0.033\n",
      "Location_Kolkata             -0.1977      0.036     -5.521      0.000      -0.268      -0.127\n",
      "Location_Mumbai              -0.0289      0.034     -0.846      0.397      -0.096       0.038\n",
      "Location_Pune                -0.0335      0.035     -0.957      0.339      -0.102       0.035\n",
      "Fuel_Type_Diesel              0.2061      0.061      3.356      0.001       0.086       0.326\n",
      "Fuel_Type_Electric         -5.54e-19   2.08e-16     -0.003      0.998   -4.08e-16    4.07e-16\n",
      "Fuel_Type_LPG                 0.0211      0.168      0.126      0.900      -0.309       0.351\n",
      "Fuel_Type_Petrol             -0.0456      0.062     -0.735      0.462      -0.167       0.076\n",
      "Transmission_Manual          -0.2575      0.018    -14.659      0.000      -0.292      -0.223\n",
      "Owner_Type_Fourth & Above     0.2603      0.132      1.972      0.049       0.001       0.519\n",
      "Owner_Type_Second            -0.0347      0.017     -2.002      0.045      -0.069      -0.001\n",
      "Owner_Type_Third             -0.1851      0.044     -4.208      0.000      -0.271      -0.099\n",
      "==============================================================================\n",
      "Omnibus:                      727.458   Durbin-Watson:                   2.030\n",
      "Prob(Omnibus):                  0.000   Jarque-Bera (JB):             3768.142\n",
      "Skew:                          -0.586   Prob(JB):                         0.00\n",
      "Kurtosis:                       7.055   Cond. No.                     1.01e+16\n",
      "==============================================================================\n",
      "\n",
      "Notes:\n",
      "[1] Standard Errors assume that the covariance matrix of the errors is correctly specified.\n",
      "[2] The smallest eigenvalue is 3.39e-22. This might indicate that there are\n",
      "strong multicollinearity problems or that the design matrix is singular.\n"
     ]
    }
   ],
   "source": [
    "# Import Statsmodels \n",
    "import statsmodels.api as sm\n",
    "\n",
    "# Statsmodel api does not add a constant by default. We need to add it explicitly\n",
    "x_train = sm.add_constant(X_train)\n",
    "\n",
    "# Add constant to test data\n",
    "x_test = sm.add_constant(X_test)\n",
    "\n",
    "def build_ols_model(train):\n",
    "    \n",
    "    # Create the model\n",
    "    olsmodel = sm.OLS(y_train[\"Price_log\"], train)\n",
    "    \n",
    "    return olsmodel.fit()\n",
    "\n",
    "\n",
    "# Fit linear model on new dataset\n",
    "olsmodel1 = build_ols_model(x_train)\n",
    "\n",
    "print(olsmodel1.summary())"
   ]
  },
  {
   "cell_type": "code",
   "execution_count": 12,
   "metadata": {
    "id": "C01l5EucVL3i"
   },
   "outputs": [],
   "source": [
    "# Retrive Coeff values, p-values and store them in the dataframe\n",
    "olsmod = pd.DataFrame(olsmodel1.params, columns = ['coef'])\n",
    "\n",
    "olsmod['pval'] = olsmodel1.pvalues"
   ]
  },
  {
   "cell_type": "code",
   "execution_count": 13,
   "metadata": {
    "id": "FbQQZacV9WMm"
   },
   "outputs": [
    {
     "data": {
      "text/html": [
       "<div>\n",
       "<style scoped>\n",
       "    .dataframe tbody tr th:only-of-type {\n",
       "        vertical-align: middle;\n",
       "    }\n",
       "\n",
       "    .dataframe tbody tr th {\n",
       "        vertical-align: top;\n",
       "    }\n",
       "\n",
       "    .dataframe thead th {\n",
       "        text-align: right;\n",
       "    }\n",
       "</style>\n",
       "<table border=\"1\" class=\"dataframe\">\n",
       "  <thead>\n",
       "    <tr style=\"text-align: right;\">\n",
       "      <th></th>\n",
       "      <th>coef</th>\n",
       "      <th>pval</th>\n",
       "    </tr>\n",
       "  </thead>\n",
       "  <tbody>\n",
       "    <tr>\n",
       "      <th>Owner_Type_Fourth &amp; Above</th>\n",
       "      <td>0.260328</td>\n",
       "      <td>4.871926e-02</td>\n",
       "    </tr>\n",
       "    <tr>\n",
       "      <th>Owner_Type_Second</th>\n",
       "      <td>-0.034705</td>\n",
       "      <td>4.533542e-02</td>\n",
       "    </tr>\n",
       "    <tr>\n",
       "      <th>Location_Hyderabad</th>\n",
       "      <td>0.084504</td>\n",
       "      <td>1.322532e-02</td>\n",
       "    </tr>\n",
       "    <tr>\n",
       "      <th>Location_Bangalore</th>\n",
       "      <td>0.096966</td>\n",
       "      <td>1.146321e-02</td>\n",
       "    </tr>\n",
       "    <tr>\n",
       "      <th>Fuel_Type_Diesel</th>\n",
       "      <td>0.206074</td>\n",
       "      <td>7.958485e-04</td>\n",
       "    </tr>\n",
       "    <tr>\n",
       "      <th>Owner_Type_Third</th>\n",
       "      <td>-0.185148</td>\n",
       "      <td>2.619032e-05</td>\n",
       "    </tr>\n",
       "    <tr>\n",
       "      <th>Location_Kolkata</th>\n",
       "      <td>-0.197692</td>\n",
       "      <td>3.532895e-08</td>\n",
       "    </tr>\n",
       "    <tr>\n",
       "      <th>Mileage</th>\n",
       "      <td>-0.012031</td>\n",
       "      <td>6.537502e-09</td>\n",
       "    </tr>\n",
       "    <tr>\n",
       "      <th>kilometers_driven_log</th>\n",
       "      <td>-0.063330</td>\n",
       "      <td>4.152066e-09</td>\n",
       "    </tr>\n",
       "    <tr>\n",
       "      <th>Engine</th>\n",
       "      <td>0.000181</td>\n",
       "      <td>5.934075e-12</td>\n",
       "    </tr>\n",
       "    <tr>\n",
       "      <th>Transmission_Manual</th>\n",
       "      <td>-0.257500</td>\n",
       "      <td>1.109349e-47</td>\n",
       "    </tr>\n",
       "    <tr>\n",
       "      <th>Power</th>\n",
       "      <td>0.005788</td>\n",
       "      <td>4.865008e-95</td>\n",
       "    </tr>\n",
       "    <tr>\n",
       "      <th>const</th>\n",
       "      <td>-195.651498</td>\n",
       "      <td>5.070835e-266</td>\n",
       "    </tr>\n",
       "    <tr>\n",
       "      <th>Year</th>\n",
       "      <td>0.098082</td>\n",
       "      <td>4.330445e-274</td>\n",
       "    </tr>\n",
       "  </tbody>\n",
       "</table>\n",
       "</div>"
      ],
      "text/plain": [
       "                                 coef           pval\n",
       "Owner_Type_Fourth & Above    0.260328   4.871926e-02\n",
       "Owner_Type_Second           -0.034705   4.533542e-02\n",
       "Location_Hyderabad           0.084504   1.322532e-02\n",
       "Location_Bangalore           0.096966   1.146321e-02\n",
       "Fuel_Type_Diesel             0.206074   7.958485e-04\n",
       "Owner_Type_Third            -0.185148   2.619032e-05\n",
       "Location_Kolkata            -0.197692   3.532895e-08\n",
       "Mileage                     -0.012031   6.537502e-09\n",
       "kilometers_driven_log       -0.063330   4.152066e-09\n",
       "Engine                       0.000181   5.934075e-12\n",
       "Transmission_Manual         -0.257500   1.109349e-47\n",
       "Power                        0.005788   4.865008e-95\n",
       "const                     -195.651498  5.070835e-266\n",
       "Year                         0.098082  4.330445e-274"
      ]
     },
     "execution_count": 13,
     "metadata": {},
     "output_type": "execute_result"
    }
   ],
   "source": [
    "# Filter by significant p-value (pval <= 0.05) and sort descending by Odds ratio\n",
    "\n",
    "olsmod = olsmod.sort_values(by = \"pval\", ascending = False)\n",
    "\n",
    "pval_filter = olsmod['pval']<= 0.05\n",
    "\n",
    "olsmod[pval_filter]"
   ]
  },
  {
   "cell_type": "code",
   "execution_count": 14,
   "metadata": {
    "id": "yjplRhssIrdC"
   },
   "outputs": [
    {
     "name": "stdout",
     "output_type": "stream",
     "text": [
      "\u001b[1mMost overall significant categorical variables of LINEAR REGRESSION  are \u001b[95m :\n",
      " ['Owner_Type_Fourth & Above', 'Owner_Type_Second', 'Owner_Type_Third', 'Location_Hyderabad', 'Location_Bangalore', 'Location_Kolkata', 'Fuel_Type_Diesel', 'Mileage', 'kilometers_driven_log', 'Engine', 'Transmission_Manual', 'Power', 'const', 'Year']\n"
     ]
    }
   ],
   "source": [
    "# We are looking are overall significant varaible\n",
    "\n",
    "pval_filter = olsmod['pval']<= 0.05\n",
    "mp_vars = olsmod[pval_filter].index.tolist()\n",
    "\n",
    "# We are going to get overall varaibles (un-one-hot encoded varables) from categorical varaibles\n",
    "sig_var = []\n",
    "\n",
    "for col in mp_vars:\n",
    "    if '' in col:\n",
    "        first_part = col.split('_')[0]\n",
    "        for c in olsmod[pval_filter].index:\n",
    "            if first_part in c and c not in sig_var :\n",
    "                sig_var.append(c)\n",
    "\n",
    "                \n",
    "start = '\\033[1m'\n",
    "end = '\\033[95m'\n",
    "print(start+ 'Most overall significant categorical variables of LINEAR REGRESSION  are ' +end,':\\n', sig_var)"
   ]
  },
  {
   "cell_type": "markdown",
   "metadata": {
    "id": "5uubmKLlVL3j"
   },
   "source": [
    "**Build Ridge / Lasso Regression similar to Linear Regression:**<br>\n",
    "\n",
    "https://scikit-learn.org/stable/modules/generated/sklearn.linear_model.Ridge.html"
   ]
  },
  {
   "cell_type": "code",
   "execution_count": 65,
   "metadata": {
    "id": "9--bgDNhVL3j"
   },
   "outputs": [],
   "source": [
    "# Import Ridge/ Lasso Regression from sklearn\n",
    "from sklearn.linear_model import Ridge"
   ]
  },
  {
   "cell_type": "code",
   "execution_count": 66,
   "metadata": {
    "id": "TwSuk8Q9VL3j"
   },
   "outputs": [],
   "source": [
    "# Create a Ridge regression model\n",
    "ridge = Ridge()"
   ]
  },
  {
   "cell_type": "code",
   "execution_count": 67,
   "metadata": {
    "id": "5cWh1QK0VL3j"
   },
   "outputs": [
    {
     "data": {
      "text/plain": [
       "Ridge()"
      ]
     },
     "execution_count": 67,
     "metadata": {},
     "output_type": "execute_result"
    }
   ],
   "source": [
    "# Fit Ridge regression model\n",
    "ridge.fit(X_train, y_train['Price_log']) "
   ]
  },
  {
   "cell_type": "code",
   "execution_count": 68,
   "metadata": {
    "id": "c2tIACYOVL3j"
   },
   "outputs": [
    {
     "name": "stdout",
     "output_type": "stream",
     "text": [
      "R-sqaure on training set :  0.5773582694733692\n",
      "R-square on test set :  0.6986083703435905\n",
      "RMSE on training set :  6.6647186014256095\n",
      "RMSE on test set :  5.665395903081499\n"
     ]
    }
   ],
   "source": [
    "# Get score of the model\n",
    "Ridge_score = get_model_score(ridge)"
   ]
  },
  {
   "cell_type": "code",
   "execution_count": 108,
   "metadata": {},
   "outputs": [
    {
     "data": {
      "text/plain": [
       "<AxesSubplot:xlabel='Price_log'>"
      ]
     },
     "execution_count": 108,
     "metadata": {},
     "output_type": "execute_result"
    },
    {
     "data": {
      "image/png": "[encoded data removed]",
      "text/plain": [
       "<Figure size 432x288 with 1 Axes>"
      ]
     },
     "metadata": {
      "needs_background": "light"
     },
     "output_type": "display_data"
    }
   ],
   "source": [
    "#Predicting values of y using Ridge Regularization model\n",
    "predictions=ridge.predict(X_test)\n",
    "import matplotlib.pyplot as plt\n",
    "y_base = cars_data[\"Price_log\"].mean()\n",
    "#Plotting base line model on the mean of target variable i.e. Price_log\n",
    "plt.axhline(y=y_base, color='r', linestyle='-')\n",
    "#Plotting scatter plot to observe the correlation between predicted values and the test dataset value\n",
    "import seaborn as sns\n",
    "\n",
    "plt.scatter(y_test[\"Price_log\"],predictions)\n",
    "sns.regplot(y_test[\"Price_log\"],predictions)"
   ]
  },
  {
   "cell_type": "markdown",
   "metadata": {
    "id": "owyg5IpstOS9"
   },
   "source": [
    "### **Decision Tree** \n",
    "\n",
    "https://scikit-learn.org/stable/auto_examples/tree/plot_tree_regression.html"
   ]
  },
  {
   "cell_type": "code",
   "execution_count": 70,
   "metadata": {
    "id": "GjZeRER6VL3k"
   },
   "outputs": [],
   "source": [
    "# Import Decision tree for Regression from sklearn\n",
    "from sklearn.tree import DecisionTreeRegressor"
   ]
  },
  {
   "cell_type": "code",
   "execution_count": 71,
   "metadata": {
    "id": "shBet9WztOS-"
   },
   "outputs": [],
   "source": [
    "# Create a decision tree regression model, use random_state = 1\n",
    "dtree = DecisionTreeRegressor(max_depth = 2, random_state = 1)"
   ]
  },
  {
   "cell_type": "code",
   "execution_count": 72,
   "metadata": {
    "id": "eJxVYVXXtOS-"
   },
   "outputs": [
    {
     "data": {
      "text/plain": [
       "DecisionTreeRegressor(max_depth=2, random_state=1)"
      ]
     },
     "execution_count": 72,
     "metadata": {},
     "output_type": "execute_result"
    }
   ],
   "source": [
    "# Fit decision tree regression model\n",
    "dtree.fit(X_train, y_train['Price_log'])"
   ]
  },
  {
   "cell_type": "code",
   "execution_count": 73,
   "metadata": {
    "id": "vGbEjda0tOS-"
   },
   "outputs": [
    {
     "name": "stdout",
     "output_type": "stream",
     "text": [
      "R-sqaure on training set :  0.3822770859018879\n",
      "R-square on test set :  0.3847280890925473\n",
      "RMSE on training set :  8.057354748029896\n",
      "RMSE on test set :  8.094652605735464\n"
     ]
    }
   ],
   "source": [
    "# Get score of the model\n",
    "Dtree_model = get_model_score(dtree)"
   ]
  },
  {
   "cell_type": "code",
   "execution_count": 107,
   "metadata": {},
   "outputs": [
    {
     "data": {
      "text/plain": [
       "<AxesSubplot:xlabel='Price_log'>"
      ]
     },
     "execution_count": 107,
     "metadata": {},
     "output_type": "execute_result"
    },
    {
     "data": {
      "image/png": "[encoded data removed]",
      "text/plain": [
       "<Figure size 432x288 with 1 Axes>"
      ]
     },
     "metadata": {
      "needs_background": "light"
     },
     "output_type": "display_data"
    }
   ],
   "source": [
    "#Predicting values of y using Decision Tree model\n",
    "predictions=dtree.predict(X_test)\n",
    "import matplotlib.pyplot as plt\n",
    "y_base = cars_data[\"Price_log\"].mean()\n",
    "#Plotting base line model on the mean of target variable i.e. Price_log\n",
    "plt.axhline(y=y_base, color='r', linestyle='-')\n",
    "#Plotting scatter plot to observe the correlation between predicted values and the test dataset value\n",
    "import seaborn as sns\n",
    "\n",
    "plt.scatter(y_test[\"Price_log\"],predictions)\n",
    "sns.regplot(y_test[\"Price_log\"],predictions)"
   ]
  },
  {
   "cell_type": "markdown",
   "metadata": {
    "id": "6z2V0IwtVL3k"
   },
   "source": [
    "Print the importance of features in the tree building. The importance of a feature is computed as the (normalized) total reduction of the criterion brought by that feature. It is also known as the Gini importance.\n"
   ]
  },
  {
   "cell_type": "code",
   "execution_count": 23,
   "metadata": {
    "id": "E8ro_i9vIrdF"
   },
   "outputs": [
    {
     "name": "stdout",
     "output_type": "stream",
     "text": [
      "                                Imp\n",
      "Power                      0.748318\n",
      "Year                       0.251682\n",
      "Location_Kochi             0.000000\n",
      "Owner_Type_Second          0.000000\n",
      "Owner_Type_Fourth & Above  0.000000\n",
      "Transmission_Manual        0.000000\n",
      "Fuel_Type_Petrol           0.000000\n",
      "Fuel_Type_LPG              0.000000\n",
      "Fuel_Type_Electric         0.000000\n",
      "Fuel_Type_Diesel           0.000000\n",
      "Location_Pune              0.000000\n",
      "Location_Mumbai            0.000000\n",
      "Location_Kolkata           0.000000\n",
      "Location_Jaipur            0.000000\n",
      "Mileage                    0.000000\n",
      "Location_Hyderabad         0.000000\n",
      "Location_Delhi             0.000000\n",
      "Location_Coimbatore        0.000000\n",
      "Location_Chennai           0.000000\n",
      "Location_Bangalore         0.000000\n",
      "kilometers_driven_log      0.000000\n",
      "New_price                  0.000000\n",
      "Seats                      0.000000\n",
      "Engine                     0.000000\n",
      "Owner_Type_Third           0.000000\n"
     ]
    }
   ],
   "source": [
    "print(pd.DataFrame(dtree.feature_importances_, columns = [\"Imp\"], index = X_train.columns).sort_values(by = 'Imp', ascending = False))"
   ]
  },
  {
   "cell_type": "markdown",
   "metadata": {
    "id": "q8eFynaNtOS-"
   },
   "source": [
    "### **Random Forest**\n",
    "\n",
    "https://scikit-learn.org/stable/modules/generated/sklearn.ensemble.RandomForestRegressor.html"
   ]
  },
  {
   "cell_type": "code",
   "execution_count": 96,
   "metadata": {
    "id": "Jhw-0FsNVL3l"
   },
   "outputs": [],
   "source": [
    "# Import Randomforest for Regression from sklearn\n",
    "from sklearn.ensemble import RandomForestRegressor"
   ]
  },
  {
   "cell_type": "code",
   "execution_count": 97,
   "metadata": {
    "id": "-4S4FoDXtOS-"
   },
   "outputs": [],
   "source": [
    "# Create a Randomforest regression model\n",
    "regr = RandomForestRegressor(max_depth =3)"
   ]
  },
  {
   "cell_type": "code",
   "execution_count": 98,
   "metadata": {
    "id": "gBlavhMTtOS-"
   },
   "outputs": [
    {
     "data": {
      "text/plain": [
       "RandomForestRegressor(max_depth=3)"
      ]
     },
     "execution_count": 98,
     "metadata": {},
     "output_type": "execute_result"
    }
   ],
   "source": [
    "# Fit Randomforest regression model\n",
    "regr.fit(X_train, y_train['Price_log'])"
   ]
  },
  {
   "cell_type": "code",
   "execution_count": 99,
   "metadata": {
    "id": "VLDDeeAGtOS_"
   },
   "outputs": [
    {
     "name": "stdout",
     "output_type": "stream",
     "text": [
      "R-sqaure on training set :  0.5498805152415995\n",
      "R-square on test set :  0.5287504954148463\n",
      "RMSE on training set :  6.877958259502262\n",
      "RMSE on test set :  7.084188752383169\n"
     ]
    }
   ],
   "source": [
    "# Get score of the model\n",
    "regr_model = get_model_score(regr)"
   ]
  },
  {
   "cell_type": "code",
   "execution_count": 109,
   "metadata": {},
   "outputs": [
    {
     "data": {
      "text/plain": [
       "<AxesSubplot:xlabel='Price_log'>"
      ]
     },
     "execution_count": 109,
     "metadata": {},
     "output_type": "execute_result"
    },
    {
     "data": {
      "image/png": "[encoded data removed]",
      "text/plain": [
       "<Figure size 432x288 with 1 Axes>"
      ]
     },
     "metadata": {
      "needs_background": "light"
     },
     "output_type": "display_data"
    }
   ],
   "source": [
    "#Predicting values of y using Random Forest model\n",
    "predictions=regr.predict(X_test)\n",
    "import matplotlib.pyplot as plt\n",
    "y_base = cars_data[\"Price_log\"].mean()\n",
    "#Plotting base line model on the mean of target variable i.e. Price_log\n",
    "plt.axhline(y=y_base, color='r', linestyle='-')\n",
    "#Plotting scatter plot to observe the correlation between predicted values and the test dataset value\n",
    "import seaborn as sns\n",
    "\n",
    "plt.scatter(y_test[\"Price_log\"],predictions)\n",
    "sns.regplot(y_test[\"Price_log\"],predictions)"
   ]
  },
  {
   "cell_type": "markdown",
   "metadata": {
    "id": "pgwyNxUuIrdG"
   },
   "source": [
    "**Feature Importance**"
   ]
  },
  {
   "cell_type": "code",
   "execution_count": 28,
   "metadata": {
    "id": "AWRS7zISIrdG"
   },
   "outputs": [
    {
     "name": "stdout",
     "output_type": "stream",
     "text": [
      "                                Imp\n",
      "Power                      0.767780\n",
      "Year                       0.223399\n",
      "Engine                     0.008485\n",
      "Transmission_Manual        0.000336\n",
      "Location_Kolkata           0.000000\n",
      "Owner_Type_Second          0.000000\n",
      "Owner_Type_Fourth & Above  0.000000\n",
      "Fuel_Type_Petrol           0.000000\n",
      "Fuel_Type_LPG              0.000000\n",
      "Fuel_Type_Electric         0.000000\n",
      "Fuel_Type_Diesel           0.000000\n",
      "Location_Pune              0.000000\n",
      "Location_Mumbai            0.000000\n",
      "Location_Jaipur            0.000000\n",
      "Location_Kochi             0.000000\n",
      "Mileage                    0.000000\n",
      "Location_Hyderabad         0.000000\n",
      "Location_Delhi             0.000000\n",
      "Location_Coimbatore        0.000000\n",
      "Location_Chennai           0.000000\n",
      "Location_Bangalore         0.000000\n",
      "kilometers_driven_log      0.000000\n",
      "New_price                  0.000000\n",
      "Seats                      0.000000\n",
      "Owner_Type_Third           0.000000\n"
     ]
    }
   ],
   "source": [
    "# Print important features similar to decision trees\n",
    "print(pd.DataFrame(regr.feature_importances_, columns = [\"Imp\"], index = X_train.columns).sort_values(by = 'Imp', ascending = False))"
   ]
  },
  {
   "cell_type": "markdown",
   "metadata": {
    "id": "sw0dMSgetOS_"
   },
   "source": [
    "### **Hyperparameter Tuning: Decision Tree**"
   ]
  },
  {
   "cell_type": "code",
   "execution_count": 29,
   "metadata": {
    "id": "4eF0aYHHtOS_"
   },
   "outputs": [
    {
     "data": {
      "text/plain": [
       "DecisionTreeRegressor(max_depth=5, random_state=1)"
      ]
     },
     "execution_count": 29,
     "metadata": {},
     "output_type": "execute_result"
    }
   ],
   "source": [
    "from sklearn.tree import DecisionTreeClassifier\n",
    "\n",
    "from sklearn import tree\n",
    "\n",
    "from sklearn.ensemble import RandomForestClassifier\n",
    "\n",
    "# Metrics to evaluate the model\n",
    "from sklearn.metrics import confusion_matrix, classification_report, f1_score\n",
    "\n",
    "from sklearn import metrics\n",
    "# For hyperparameter tuning\n",
    "from sklearn.model_selection import GridSearchCV\n",
    "# Choose the type of estimator \n",
    "dtree_tuned = DecisionTreeRegressor(random_state = 1)\n",
    "\n",
    "# Grid of parameters to choose from\n",
    "# Check documentation for all the parametrs that the model takes and play with those\n",
    "parameters ={'max_depth': np.arange(2, 10), \n",
    "              'criterion': ['squared_error', 'friedman_mse', 'absolute_error', 'poisson'],\n",
    "            }\n",
    "\n",
    "\n",
    "# Run the grid search\n",
    "grid_obj = GridSearchCV(dtree_tuned, parameters, cv = 10, n_jobs = -1)\n",
    "grid_obj.fit(X_train, y_train['Price_log'])\n",
    "# Set the model to the best combination of parameters\n",
    "dtree_tuned = grid_obj.best_estimator_\n",
    "\n",
    "# Fit the best algorithm to the data\n",
    "dtree_tuned.fit(X_train,y_train['Price_log'])"
   ]
  },
  {
   "cell_type": "code",
   "execution_count": 30,
   "metadata": {
    "id": "hctfJIAXtOS_"
   },
   "outputs": [
    {
     "data": {
      "text/plain": [
       "0.6847769662611392"
      ]
     },
     "execution_count": 30,
     "metadata": {},
     "output_type": "execute_result"
    }
   ],
   "source": [
    "# Get score of the dtree_tuned\n",
    "grid_obj.best_score_"
   ]
  },
  {
   "cell_type": "markdown",
   "metadata": {
    "id": "5jssEF5eIrdH"
   },
   "source": [
    "**Feature Importance**"
   ]
  },
  {
   "cell_type": "code",
   "execution_count": 31,
   "metadata": {
    "id": "OdzQWq8WtOTA"
   },
   "outputs": [
    {
     "name": "stdout",
     "output_type": "stream",
     "text": [
      "                                Imp\n",
      "Power                      0.696499\n",
      "Year                       0.245440\n",
      "Engine                     0.045008\n",
      "Mileage                    0.005837\n",
      "Transmission_Manual        0.004266\n",
      "kilometers_driven_log      0.002051\n",
      "Owner_Type_Third           0.000899\n",
      "Location_Bangalore         0.000000\n",
      "Location_Chennai           0.000000\n",
      "Owner_Type_Second          0.000000\n",
      "Owner_Type_Fourth & Above  0.000000\n",
      "Seats                      0.000000\n",
      "Fuel_Type_Petrol           0.000000\n",
      "Fuel_Type_LPG              0.000000\n",
      "Fuel_Type_Electric         0.000000\n",
      "Fuel_Type_Diesel           0.000000\n",
      "Location_Pune              0.000000\n",
      "Location_Mumbai            0.000000\n",
      "Location_Kolkata           0.000000\n",
      "Location_Kochi             0.000000\n",
      "New_price                  0.000000\n",
      "Location_Hyderabad         0.000000\n",
      "Location_Delhi             0.000000\n",
      "Location_Coimbatore        0.000000\n",
      "Location_Jaipur            0.000000\n"
     ]
    }
   ],
   "source": [
    "# Print important features of tuned decision tree similar to decision trees\n",
    "print(pd.DataFrame(dtree_tuned.feature_importances_, columns = [\"Imp\"], index = X_train.columns).sort_values(by = 'Imp', ascending = False))"
   ]
  },
  {
   "cell_type": "markdown",
   "metadata": {
    "id": "18uxHTy2tOTB"
   },
   "source": [
    "### **Hyperparameter Tuning: Random Forest**"
   ]
  },
  {
   "cell_type": "code",
   "execution_count": 50,
   "metadata": {
    "id": "4P_Mj0JYtOTC"
   },
   "outputs": [],
   "source": [
    "from sklearn.metrics import confusion_matrix, classification_report, f1_score\n",
    "\n",
    "from sklearn import metrics\n",
    "from sklearn.model_selection import GridSearchCV\n",
    "rf_estimator_tuned = RandomForestRegressor(random_state = 1)\n",
    "\n",
    "# Grid of parameters to choose from\n",
    "parameters =  {'bootstrap' : [True,False],\n",
    "    'max_depth': [2,4],\n",
    "    'max_features': ['auto', 'sqrt'],\n",
    "    'min_samples_leaf': [1,2],\n",
    "    'min_samples_split': [2,5],\n",
    "    'n_estimators': [int(x) for x in np.linspace(start = 10, stop = 80, num =10)]}\n",
    "\n",
    "# Run the grid search\n",
    "grid_obj = GridSearchCV(rf_estimator_tuned, param_grid = parameters, cv = 10)\n",
    "grid_obj = grid_obj.fit(X_train, y_train[\"Price_log\"])\n",
    "\n",
    "# Set the classifier to the best combination of parameters\n",
    "rf_estimator_tuned_base = grid_obj.best_estimator_"
   ]
  },
  {
   "cell_type": "code",
   "execution_count": 52,
   "metadata": {
    "id": "HSBtYgpctOTC"
   },
   "outputs": [
    {
     "data": {
      "text/plain": [
       "RandomForestRegressor(max_depth=4, n_estimators=41, random_state=1)"
      ]
     },
     "execution_count": 52,
     "metadata": {},
     "output_type": "execute_result"
    }
   ],
   "source": [
    "#Fitting to the model\n",
    "rf_estimator_tuned_base.fit(X_train,y_train['Price_log'])"
   ]
  },
  {
   "cell_type": "code",
   "execution_count": 53,
   "metadata": {},
   "outputs": [
    {
     "data": {
      "text/plain": [
       "0.6866870194806449"
      ]
     },
     "execution_count": 53,
     "metadata": {},
     "output_type": "execute_result"
    }
   ],
   "source": [
    "# Get score of the model\n",
    "grid_obj.best_score_"
   ]
  },
  {
   "cell_type": "markdown",
   "metadata": {
    "id": "ItsgSUyiIrdI"
   },
   "source": [
    "**Feature Importance**"
   ]
  },
  {
   "cell_type": "code",
   "execution_count": 54,
   "metadata": {
    "id": "9khvM2ZhtOTC"
   },
   "outputs": [
    {
     "name": "stdout",
     "output_type": "stream",
     "text": [
      "                                Imp\n",
      "Power                      0.737295\n",
      "Year                       0.232314\n",
      "Engine                     0.021384\n",
      "Seats                      0.003045\n",
      "kilometers_driven_log      0.001934\n",
      "Transmission_Manual        0.001383\n",
      "Fuel_Type_Diesel           0.001154\n",
      "Mileage                    0.000497\n",
      "Fuel_Type_Petrol           0.000466\n",
      "New_price                  0.000314\n",
      "Location_Kolkata           0.000123\n",
      "Location_Bangalore         0.000091\n",
      "Owner_Type_Second          0.000000\n",
      "Owner_Type_Fourth & Above  0.000000\n",
      "Fuel_Type_LPG              0.000000\n",
      "Fuel_Type_Electric         0.000000\n",
      "Location_Jaipur            0.000000\n",
      "Location_Pune              0.000000\n",
      "Location_Mumbai            0.000000\n",
      "Location_Kochi             0.000000\n",
      "Location_Hyderabad         0.000000\n",
      "Location_Delhi             0.000000\n",
      "Location_Coimbatore        0.000000\n",
      "Location_Chennai           0.000000\n",
      "Owner_Type_Third           0.000000\n"
     ]
    }
   ],
   "source": [
    "# Print important features of tuned decision tree similar to decision trees\n",
    "print(pd.DataFrame(rf_estimator_tuned_base.feature_importances_, columns = [\"Imp\"], index = X_train.columns).sort_values(by = 'Imp', ascending = False))"
   ]
  },
  {
   "cell_type": "code",
   "execution_count": 101,
   "metadata": {},
   "outputs": [],
   "source": [
    "from sklearn.neighbors import KNeighborsRegressor\n",
    "knn= KNeighborsRegressor(n_neighbors=10)"
   ]
  },
  {
   "cell_type": "code",
   "execution_count": 102,
   "metadata": {},
   "outputs": [
    {
     "data": {
      "text/plain": [
       "KNeighborsRegressor(n_neighbors=10)"
      ]
     },
     "execution_count": 102,
     "metadata": {},
     "output_type": "execute_result"
    }
   ],
   "source": [
    "knn.fit(X_train, y_train[\"Price_log\"])"
   ]
  },
  {
   "cell_type": "code",
   "execution_count": 103,
   "metadata": {},
   "outputs": [
    {
     "name": "stdout",
     "output_type": "stream",
     "text": [
      "R-sqaure on training set :  0.680484755385159\n",
      "R-square on test set :  0.6265162578238457\n",
      "RMSE on training set :  5.794839626911584\n",
      "RMSE on test set :  6.3066760220676725\n"
     ]
    }
   ],
   "source": [
    "knn_model = get_model_score(knn)"
   ]
  },
  {
   "cell_type": "code",
   "execution_count": 110,
   "metadata": {},
   "outputs": [
    {
     "data": {
      "text/plain": [
       "<AxesSubplot:xlabel='Price_log'>"
      ]
     },
     "execution_count": 110,
     "metadata": {},
     "output_type": "execute_result"
    },
    {
     "data": {
      "image/png": "[encoded data removed]",
      "text/plain": [
       "<Figure size 432x288 with 1 Axes>"
      ]
     },
     "metadata": {
      "needs_background": "light"
     },
     "output_type": "display_data"
    }
   ],
   "source": [
    "#Predicting values of y using KNN model\n",
    "predictions=knn.predict(X_test)\n",
    "import matplotlib.pyplot as plt\n",
    "y_base = cars_data[\"Price_log\"].mean()\n",
    "#Plotting base line model on the mean of target variable i.e. Price_log\n",
    "plt.axhline(y=y_base, color='r', linestyle='-')\n",
    "#Plotting scatter plot to observe the correlation between predicted values and the test dataset value\n",
    "import seaborn as sns\n",
    "\n",
    "plt.scatter(y_test[\"Price_log\"],predictions)\n",
    "sns.regplot(y_test[\"Price_log\"],predictions)"
   ]
  },
  {
   "cell_type": "code",
   "execution_count": 59,
   "metadata": {
    "id": "DCInk4Y8tOTC"
   },
   "outputs": [],
   "source": [
    "# Defining list of models you have trained\n",
    "models = [lr, dtree, ridge, regr,knn]\n",
    "\n",
    "# Defining empty lists to add train and test results\n",
    "r2_train = []\n",
    "r2_test = []\n",
    "rmse_train = []\n",
    "rmse_test = []\n",
    "\n",
    "# Looping through all the models to get the rmse and r2 scores\n",
    "for model in models:\n",
    "    \n",
    "    # Accuracy score\n",
    "    j = get_model_score(model, False)\n",
    "    \n",
    "    r2_train.append(j[0])\n",
    "    \n",
    "    r2_test.append(j[1])\n",
    "    \n",
    "    rmse_train.append(j[2])\n",
    "    \n",
    "    rmse_test.append(j[3])"
   ]
  },
  {
   "cell_type": "code",
   "execution_count": 60,
   "metadata": {
    "id": "zuLokC7xtOTD"
   },
   "outputs": [
    {
     "data": {
      "text/html": [
       "<div>\n",
       "<style scoped>\n",
       "    .dataframe tbody tr th:only-of-type {\n",
       "        vertical-align: middle;\n",
       "    }\n",
       "\n",
       "    .dataframe tbody tr th {\n",
       "        vertical-align: top;\n",
       "    }\n",
       "\n",
       "    .dataframe thead th {\n",
       "        text-align: right;\n",
       "    }\n",
       "</style>\n",
       "<table border=\"1\" class=\"dataframe\">\n",
       "  <thead>\n",
       "    <tr style=\"text-align: right;\">\n",
       "      <th></th>\n",
       "      <th>Model</th>\n",
       "      <th>Train_r2</th>\n",
       "      <th>Test_r2</th>\n",
       "      <th>Train_RMSE</th>\n",
       "      <th>Test_RMSE</th>\n",
       "    </tr>\n",
       "  </thead>\n",
       "  <tbody>\n",
       "    <tr>\n",
       "      <th>0</th>\n",
       "      <td>Linear Regression</td>\n",
       "      <td>0.577527</td>\n",
       "      <td>0.698732</td>\n",
       "      <td>6.663385</td>\n",
       "      <td>5.664234</td>\n",
       "    </tr>\n",
       "    <tr>\n",
       "      <th>1</th>\n",
       "      <td>Decision Tree</td>\n",
       "      <td>0.382277</td>\n",
       "      <td>0.384728</td>\n",
       "      <td>8.057355</td>\n",
       "      <td>8.094653</td>\n",
       "    </tr>\n",
       "    <tr>\n",
       "      <th>2</th>\n",
       "      <td>Ridge Regularization</td>\n",
       "      <td>0.577358</td>\n",
       "      <td>0.698608</td>\n",
       "      <td>6.664719</td>\n",
       "      <td>5.665396</td>\n",
       "    </tr>\n",
       "    <tr>\n",
       "      <th>3</th>\n",
       "      <td>Random Forest</td>\n",
       "      <td>0.539156</td>\n",
       "      <td>0.522857</td>\n",
       "      <td>6.959412</td>\n",
       "      <td>7.128346</td>\n",
       "    </tr>\n",
       "    <tr>\n",
       "      <th>4</th>\n",
       "      <td>KNN</td>\n",
       "      <td>0.680485</td>\n",
       "      <td>0.626516</td>\n",
       "      <td>5.794840</td>\n",
       "      <td>6.306676</td>\n",
       "    </tr>\n",
       "  </tbody>\n",
       "</table>\n",
       "</div>"
      ],
      "text/plain": [
       "                  Model  Train_r2   Test_r2  Train_RMSE  Test_RMSE\n",
       "0     Linear Regression  0.577527  0.698732    6.663385   5.664234\n",
       "1         Decision Tree  0.382277  0.384728    8.057355   8.094653\n",
       "2  Ridge Regularization  0.577358  0.698608    6.664719   5.665396\n",
       "3         Random Forest  0.539156  0.522857    6.959412   7.128346\n",
       "4                   KNN  0.680485  0.626516    5.794840   6.306676"
      ]
     },
     "execution_count": 60,
     "metadata": {},
     "output_type": "execute_result"
    }
   ],
   "source": [
    "comparison_frame = pd.DataFrame({'Model':['Linear Regression','Decision Tree', 'Ridge Regularization', 'Random Forest',\"KNN\"], \n",
    "                                          'Train_r2': r2_train,'Test_r2': r2_test,\n",
    "                                          'Train_RMSE': rmse_train,'Test_RMSE': rmse_test}) \n",
    "comparison_frame"
   ]
  }
 ],
 "metadata": {
  "colab": {
   "collapsed_sections": [
    "rlLoEhsbtOSg",
    "baG7rS5FtOSh",
    "63k9imdMtOSi",
    "T0h9uyJNVL3U",
    "foDG3YDDtOSm",
    "FE62g5aoVL3W",
    "K8ck0A1ltOSn",
    "HxhehTWQtOSo",
    "XYmSIliuIrcy",
    "vjT3FFoDIrc3",
    "8xmd6go2Irc5",
    "Z8svlVbWtOSy",
    "XoilGTkZIrc6",
    "70E7M7KJtOS1"
   ],
   "name": "Reference_Notebook_Milestone_1_Regression.ipynb",
   "provenance": []
  },
  "kernelspec": {
   "display_name": "Python 3 (ipykernel)",
   "language": "python",
   "name": "python3"
  },
  "language_info": {
   "codemirror_mode": {
    "name": "ipython",
    "version": 3
   },
   "file_extension": ".py",
   "mimetype": "text/x-python",
   "name": "python",
   "nbconvert_exporter": "python",
   "pygments_lexer": "ipython3",
   "version": "3.9.12"
  }
 },
 "nbformat": 4,
 "nbformat_minor": 1
}
